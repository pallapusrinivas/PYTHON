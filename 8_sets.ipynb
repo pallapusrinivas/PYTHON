{
  "nbformat": 4,
  "nbformat_minor": 0,
  "metadata": {
    "colab": {
      "provenance": []
    },
    "kernelspec": {
      "name": "python3",
      "display_name": "Python 3"
    },
    "language_info": {
      "name": "python"
    }
  },
  "cells": [
    {
      "cell_type": "markdown",
      "source": [
        "#sets:\n",
        "\n",
        "##       Sets are used to store multiple items in a single variable.\n",
        "\n",
        "## Set is one of 4 built-in data types in Python used to store collections of data, the other 3 are List, Tuple, and Dictionary, all with different qualities and usage.\n",
        "\n",
        "## A set is a collection which is unordered, unchangeable*, and unindexed.  \n",
        "\n",
        "\n",
        "##Sets are written with curly brackets."
      ],
      "metadata": {
        "id": "TJmN_NpZi2ff"
      }
    },
    {
      "cell_type": "code",
      "source": [
        "thisset = {\"apple\", \"banana\", \"cherry\"}\n",
        "print(thisset)"
      ],
      "metadata": {
        "colab": {
          "base_uri": "https://localhost:8080/"
        },
        "id": "CT1Go0-2jk21",
        "outputId": "ab78adae-1732-414a-9d05-8a1079b93c0c"
      },
      "execution_count": 1,
      "outputs": [
        {
          "output_type": "stream",
          "name": "stdout",
          "text": [
            "{'cherry', 'banana', 'apple'}\n"
          ]
        }
      ]
    },
    {
      "cell_type": "markdown",
      "source": [
        "#convert list to a set:\n"
      ],
      "metadata": {
        "id": "Ise2xkVCj0NX"
      }
    },
    {
      "cell_type": "code",
      "source": [
        "num=set([1,2,3,4,5])\n",
        "print(num)"
      ],
      "metadata": {
        "colab": {
          "base_uri": "https://localhost:8080/"
        },
        "id": "fb_BIhsQj6RZ",
        "outputId": "251a0b58-da84-47d2-bdc2-c2fead723e7d"
      },
      "execution_count": 2,
      "outputs": [
        {
          "output_type": "stream",
          "name": "stdout",
          "text": [
            "{1, 2, 3, 4, 5}\n"
          ]
        }
      ]
    },
    {
      "cell_type": "code",
      "source": [
        "fruits= {\"apple\", \"banana\", \"cherry\"}\n",
        "print(fruits)\n",
        "print(type(fruits))"
      ],
      "metadata": {
        "colab": {
          "base_uri": "https://localhost:8080/"
        },
        "id": "6s94XVpzkDMF",
        "outputId": "0bc6adb2-d4c9-4074-e85c-3bc0366a9c3e"
      },
      "execution_count": 3,
      "outputs": [
        {
          "output_type": "stream",
          "name": "stdout",
          "text": [
            "{'cherry', 'banana', 'apple'}\n",
            "<class 'set'>\n"
          ]
        }
      ]
    },
    {
      "cell_type": "markdown",
      "source": [
        "#Duplicates Not Allowed:\n",
        "\n",
        "##            Sets cannot have two items with the same value."
      ],
      "metadata": {
        "id": "Qyg4iTZMkYyY"
      }
    },
    {
      "cell_type": "code",
      "source": [
        "thisset = {\"apple\", \"banana\", \"cherry\", \"apple\"}\n",
        "\n",
        "print(thisset)"
      ],
      "metadata": {
        "colab": {
          "base_uri": "https://localhost:8080/"
        },
        "id": "3ccDaHh3kjVN",
        "outputId": "bc273cec-40fd-4b51-f5c9-9a0138ff26bc"
      },
      "execution_count": 4,
      "outputs": [
        {
          "output_type": "stream",
          "name": "stdout",
          "text": [
            "{'cherry', 'banana', 'apple'}\n"
          ]
        }
      ]
    },
    {
      "cell_type": "code",
      "source": [
        "num={1,1,1,12,2,2,23,3,3,35,5,5,5}\n",
        "\n",
        "print(num)"
      ],
      "metadata": {
        "colab": {
          "base_uri": "https://localhost:8080/"
        },
        "id": "ns5z1M6lknVd",
        "outputId": "d8e7d70e-047d-4b6b-c293-1dd553bbde85"
      },
      "execution_count": 6,
      "outputs": [
        {
          "output_type": "stream",
          "name": "stdout",
          "text": [
            "{1, 2, 3, 35, 5, 23, 12}\n"
          ]
        }
      ]
    },
    {
      "cell_type": "markdown",
      "source": [
        "#Add Items:\n",
        "\n",
        "##           Once a set is created, you cannot change its items, but you can add new items.\n",
        "\n",
        "\n",
        "##         To add one item to a set use the add() method."
      ],
      "metadata": {
        "id": "b3M6qfgmlGN_"
      }
    },
    {
      "cell_type": "code",
      "source": [
        "thisset = {\"apple\", \"banana\", \"cherry\"}\n",
        "\n",
        "thisset.add(\"orange\")\n",
        "\n",
        "print(thisset)"
      ],
      "metadata": {
        "colab": {
          "base_uri": "https://localhost:8080/"
        },
        "id": "nf_DdZ5OlV1H",
        "outputId": "d3fcfe64-f3b3-4cb4-b135-8033d13a3200"
      },
      "execution_count": 7,
      "outputs": [
        {
          "output_type": "stream",
          "name": "stdout",
          "text": [
            "{'cherry', 'banana', 'apple', 'orange'}\n"
          ]
        }
      ]
    },
    {
      "cell_type": "code",
      "source": [
        "num={2,3,4,5,6,7,78}\n",
        "num.add(40)\n",
        "print(num)"
      ],
      "metadata": {
        "colab": {
          "base_uri": "https://localhost:8080/"
        },
        "id": "7xdgzJZhlZSM",
        "outputId": "f31901a0-18cd-4a38-b35a-779496fcf44a"
      },
      "execution_count": 8,
      "outputs": [
        {
          "output_type": "stream",
          "name": "stdout",
          "text": [
            "{2, 3, 4, 5, 6, 7, 40, 78}\n"
          ]
        }
      ]
    },
    {
      "cell_type": "markdown",
      "source": [
        "#update python set:\n",
        "\n",
        "##           The update() method updates the current set, by adding items from another set (or any other iterable).\n",
        "\n",
        "## If an item is present in both sets, only one appearance of this item will be present in the updated set.\n",
        "\n",
        "## As a shortcut, you can use the |= operator instead, see example below"
      ],
      "metadata": {
        "id": "Ig78ZtL-ll63"
      }
    },
    {
      "cell_type": "code",
      "source": [
        "x = {\"apple\", \"banana\", \"cherry\"}\n",
        "y = {\"google\", \"microsoft\", \"apple\"}\n",
        "\n",
        "x.update(y)\n",
        "\n",
        "print(x)"
      ],
      "metadata": {
        "colab": {
          "base_uri": "https://localhost:8080/"
        },
        "id": "Vqfl1eramZi1",
        "outputId": "3ba7ef3f-0eef-43f9-d54c-2e4cc7d948db"
      },
      "execution_count": 9,
      "outputs": [
        {
          "output_type": "stream",
          "name": "stdout",
          "text": [
            "{'cherry', 'google', 'microsoft', 'banana', 'apple'}\n"
          ]
        }
      ]
    },
    {
      "cell_type": "markdown",
      "source": [
        "#Set discard() Method:\n",
        "\n",
        "             \n",
        "## The discard() method removes the specified item from the set.\n",
        "\n",
        "## This method is different from the remove() method, because the remove() method will raise an error if the specified item does not exist, and the discard() method will not.\n",
        "\n",
        "\n"
      ],
      "metadata": {
        "id": "tva_aVfHmrG1"
      }
    },
    {
      "cell_type": "code",
      "source": [
        "fruits = {\"apple\", \"banana\", \"cherry\"}\n",
        "\n",
        "fruits.discard(\"banana\")\n",
        "\n",
        "print(fruits)"
      ],
      "metadata": {
        "colab": {
          "base_uri": "https://localhost:8080/"
        },
        "id": "ZocjokE1nBAw",
        "outputId": "c94a97eb-91e0-4e4f-fa20-18315d678343"
      },
      "execution_count": 10,
      "outputs": [
        {
          "output_type": "stream",
          "name": "stdout",
          "text": [
            "{'cherry', 'apple'}\n"
          ]
        }
      ]
    },
    {
      "cell_type": "markdown",
      "source": [
        "#Set remove() Method:\n",
        "\n",
        "##         The remove() method removes the specified element from the set.\n",
        "\n",
        "## This method is different from the discard() method, because the remove() method will raise an error if the specified item does not exist, and the discard() method will not.\n",
        "\n"
      ],
      "metadata": {
        "id": "DOafq-mHnXJK"
      }
    },
    {
      "cell_type": "code",
      "source": [
        "fruits = {\"apple\", \"banana\", \"cherry\"}\n",
        "\n",
        "fruits.remove(\"banana\")\n",
        "\n",
        "print(fruits)"
      ],
      "metadata": {
        "colab": {
          "base_uri": "https://localhost:8080/"
        },
        "id": "_Ipx9-5dnkh3",
        "outputId": "9d42f439-fcb3-49e7-c19c-844456d7d2e2"
      },
      "execution_count": 11,
      "outputs": [
        {
          "output_type": "stream",
          "name": "stdout",
          "text": [
            "{'cherry', 'apple'}\n"
          ]
        }
      ]
    },
    {
      "cell_type": "markdown",
      "source": [
        "#Python set() Operations:\n",
        "            \n",
        "##            If you remember your basic high school math, you'll probably recall mathematical set operations like union, intersection, difference and symmetric difference. Well, you can achieve the same thing with Python sets.\n",
        "\n",
        "\n",
        "# 1. Set Union:\n",
        "\n",
        "         \n",
        "## The union of two sets is the set of all the elements of both the sets without duplicates. You can use the union() method or the | syntax to find the union of a Python set."
      ],
      "metadata": {
        "id": "Yal0iZUCpJaI"
      }
    },
    {
      "cell_type": "code",
      "source": [
        "first_set = {1, 2, 3}\n",
        ">>> second_set = {3, 4, 5}\n",
        ">>> first_set.union(second_set)"
      ],
      "metadata": {
        "colab": {
          "base_uri": "https://localhost:8080/"
        },
        "id": "lbN9TFT_pj_m",
        "outputId": "d5e66ca5-c534-4d19-ae03-731ba6c3b289"
      },
      "execution_count": 16,
      "outputs": [
        {
          "output_type": "execute_result",
          "data": {
            "text/plain": [
              "{1, 2, 3, 4, 5}"
            ]
          },
          "metadata": {},
          "execution_count": 16
        }
      ]
    },
    {
      "cell_type": "code",
      "source": [
        " first_set = {1, 2, 3}\n",
        ">>> second_set = {3, 4, 5}                # using the '|' operator\n",
        ">>> first_set | second_set"
      ],
      "metadata": {
        "colab": {
          "base_uri": "https://localhost:8080/"
        },
        "id": "cpUSooImp3Ir",
        "outputId": "5557d2b6-6a1b-47a4-9ef5-4ca30b4d8c52"
      },
      "execution_count": 17,
      "outputs": [
        {
          "output_type": "execute_result",
          "data": {
            "text/plain": [
              "{1, 2, 3, 4, 5}"
            ]
          },
          "metadata": {},
          "execution_count": 17
        }
      ]
    },
    {
      "cell_type": "markdown",
      "source": [
        "#2.Set Intersection:\n",
        "\n",
        "##              The intersection of two sets is the set of all the common elements of both the sets. You can use the intersection() method of the & operator to find the intersection of a Python set."
      ],
      "metadata": {
        "id": "fNiyfAoCqVJj"
      }
    },
    {
      "cell_type": "code",
      "source": [
        "first_set = {1, 2, 3, 4, 5, 6}\n",
        ">>> second_set = {4, 5, 6, 7, 8, 9}\n",
        ">>> first_set.intersection(second_set)"
      ],
      "metadata": {
        "colab": {
          "base_uri": "https://localhost:8080/"
        },
        "id": "Ds29zop4qegU",
        "outputId": "cbfed4fc-c6e4-48dc-e73b-f082199f9983"
      },
      "execution_count": 18,
      "outputs": [
        {
          "output_type": "execute_result",
          "data": {
            "text/plain": [
              "{4, 5, 6}"
            ]
          },
          "metadata": {},
          "execution_count": 18
        }
      ]
    },
    {
      "cell_type": "code",
      "source": [
        "first_set = {1, 2, 3, 4, 5, 6}\n",
        ">>> second_set = {4, 5, 6, 7, 8, 9}\n",
        ">>> first_set & second_set             # using the '&' operator"
      ],
      "metadata": {
        "colab": {
          "base_uri": "https://localhost:8080/"
        },
        "id": "-WGjx9bRqkTU",
        "outputId": "40e651da-6984-46d3-ce0c-0d9c9c737576"
      },
      "execution_count": 21,
      "outputs": [
        {
          "output_type": "execute_result",
          "data": {
            "text/plain": [
              "{4, 5, 6}"
            ]
          },
          "metadata": {},
          "execution_count": 21
        }
      ]
    },
    {
      "cell_type": "markdown",
      "source": [
        "#3. Set Difference:\n",
        "\n",
        "##              The difference between two sets is the set of all the elements in first set that are not present in the second set. You would use the difference() method or the - operator to achieve this in Python."
      ],
      "metadata": {
        "id": "P-l1myBkrAo7"
      }
    },
    {
      "cell_type": "code",
      "source": [
        "first_set = {1, 2, 3, 4, 5, 6}\n",
        ">>> second_set = {4, 5, 6, 7, 8, 9}\n",
        ">>> first_set.difference(second_set)"
      ],
      "metadata": {
        "colab": {
          "base_uri": "https://localhost:8080/"
        },
        "id": "SdYL68xxrJJY",
        "outputId": "5f1d4c0b-585f-4af1-dd5b-dd0454f3005f"
      },
      "execution_count": 22,
      "outputs": [
        {
          "output_type": "execute_result",
          "data": {
            "text/plain": [
              "{1, 2, 3}"
            ]
          },
          "metadata": {},
          "execution_count": 22
        }
      ]
    },
    {
      "cell_type": "code",
      "source": [
        "first_set = {1, 2, 3, 4, 5, 6}\n",
        ">>> second_set = {4, 5, 6, 7, 8, 9}\n",
        ">>> first_set - second_set                   # using the '-'operator"
      ],
      "metadata": {
        "colab": {
          "base_uri": "https://localhost:8080/"
        },
        "id": "yrzGrXBerOBW",
        "outputId": "914c3134-8989-4702-bec0-9d21eb40ace4"
      },
      "execution_count": 23,
      "outputs": [
        {
          "output_type": "execute_result",
          "data": {
            "text/plain": [
              "{1, 2, 3}"
            ]
          },
          "metadata": {},
          "execution_count": 23
        }
      ]
    },
    {
      "cell_type": "markdown",
      "source": [
        "#4.Set Symmetric Difference:\n",
        "\n",
        "## The symmetric difference between two sets is the set of all the elements that are either in the first set or the second set but not in both.\n",
        "\n",
        "## You have the choice of using either the symmetric_difference() method or the ^ operator to do this in Python.\n",
        "                "
      ],
      "metadata": {
        "id": "ShwY0wdLrgmM"
      }
    },
    {
      "cell_type": "code",
      "source": [
        "first_set = {1, 2, 3, 4, 5, 6}\n",
        ">>> second_set = {4, 5, 6, 7, 8, 9}\n",
        ">>> first_set.symmetric_difference(second_set)"
      ],
      "metadata": {
        "colab": {
          "base_uri": "https://localhost:8080/"
        },
        "id": "HQDhFNlyrrSY",
        "outputId": "4b1bd7a9-8f4f-49f5-99cb-4105fb5849e3"
      },
      "execution_count": 24,
      "outputs": [
        {
          "output_type": "execute_result",
          "data": {
            "text/plain": [
              "{1, 2, 3, 7, 8, 9}"
            ]
          },
          "metadata": {},
          "execution_count": 24
        }
      ]
    },
    {
      "cell_type": "code",
      "source": [
        "first_set = {1, 2, 3, 4, 5, 6}\n",
        ">>> second_set = {4, 5, 6, 7, 8, 9}\n",
        ">>> first_set ^ second_set                # using the '^' operator"
      ],
      "metadata": {
        "colab": {
          "base_uri": "https://localhost:8080/"
        },
        "id": "aUv_wuTBruOl",
        "outputId": "1024950c-2c1a-42bf-9fba-a6f6fe518ef9"
      },
      "execution_count": 26,
      "outputs": [
        {
          "output_type": "execute_result",
          "data": {
            "text/plain": [
              "{1, 2, 3, 7, 8, 9}"
            ]
          },
          "metadata": {},
          "execution_count": 26
        }
      ]
    }
  ]
}