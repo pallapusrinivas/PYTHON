{
  "nbformat": 4,
  "nbformat_minor": 0,
  "metadata": {
    "colab": {
      "provenance": []
    },
    "kernelspec": {
      "name": "python3",
      "display_name": "Python 3"
    },
    "language_info": {
      "name": "python"
    }
  },
  "cells": [
    {
      "cell_type": "markdown",
      "source": [
        "#Tuple:\n",
        "\n",
        "## Tuples are used to store multiple items in a single variable.\n",
        "\n",
        "## Tuple is one of 4 built-in data types in Python used to store collections of data, the other 3 are List, Set, and Dictionary, all with different qualities and usage.\n",
        "\n",
        "## A tuple is a collection which is ordered and unchangeable.\n",
        "\n",
        "## Tuples are written with round brackets."
      ],
      "metadata": {
        "id": "JWhG_Bja_X_s"
      }
    },
    {
      "cell_type": "code",
      "source": [
        "thistuple = (\"apple\", \"banana\", \"cherry\")\n",
        "print(type(thistuple))\n"
      ],
      "metadata": {
        "colab": {
          "base_uri": "https://localhost:8080/"
        },
        "id": "lfIs3k2DD-rv",
        "outputId": "30cdc94f-9a72-4dcf-8fd4-b8b448947146"
      },
      "execution_count": null,
      "outputs": [
        {
          "output_type": "stream",
          "name": "stdout",
          "text": [
            "<class 'tuple'>\n"
          ]
        }
      ]
    },
    {
      "cell_type": "code",
      "source": [
        "area=(\"kukatpally\",\"borabanda\",\"madhapur\",\"chandanagar\")\n",
        "print(type(area))"
      ],
      "metadata": {
        "colab": {
          "base_uri": "https://localhost:8080/"
        },
        "id": "WYNqmwXOEL5T",
        "outputId": "2c96c517-64ec-4fa6-bd9e-52b63b0ea326"
      },
      "execution_count": null,
      "outputs": [
        {
          "output_type": "stream",
          "name": "stdout",
          "text": [
            "<class 'tuple'>\n"
          ]
        }
      ]
    },
    {
      "cell_type": "code",
      "source": [
        "length=(10,50,49,30,27,58)\n",
        "print(type(length))"
      ],
      "metadata": {
        "colab": {
          "base_uri": "https://localhost:8080/"
        },
        "id": "Rfw7k-gkEkUw",
        "outputId": "566d3265-c9ae-437a-d77e-3b60170dff85"
      },
      "execution_count": null,
      "outputs": [
        {
          "output_type": "stream",
          "name": "stdout",
          "text": [
            "<class 'tuple'>\n"
          ]
        }
      ]
    },
    {
      "cell_type": "markdown",
      "source": [
        "#using positive index:"
      ],
      "metadata": {
        "id": "zec-Fsl8EvMK"
      }
    },
    {
      "cell_type": "code",
      "source": [
        "po=(\"apple\",\"banana\", \"cherry\",\"kukatpally\",\"borabanda\",\"madhapur\",\"chandanagar\",40,35,57,89,45,true,fales,true,false,true)\n",
        "po[4]"
      ],
      "metadata": {
        "colab": {
          "base_uri": "https://localhost:8080/",
          "height": 36
        },
        "id": "wNmM1WDjFfCJ",
        "outputId": "7a7da6e1-2a9d-4bf4-ebed-36c32956c796"
      },
      "execution_count": null,
      "outputs": [
        {
          "output_type": "execute_result",
          "data": {
            "text/plain": [
              "'borabanda'"
            ],
            "application/vnd.google.colaboratory.intrinsic+json": {
              "type": "string"
            }
          },
          "metadata": {},
          "execution_count": 5
        }
      ]
    },
    {
      "cell_type": "code",
      "source": [
        "pa=(12,35,65,11.25,26.4,46.25)\n",
        "pa[0]"
      ],
      "metadata": {
        "colab": {
          "base_uri": "https://localhost:8080/"
        },
        "id": "LRakPFBwJvWS",
        "outputId": "6fe28208-3e8e-4384-a9fe-93fb734ce3f6"
      },
      "execution_count": null,
      "outputs": [
        {
          "output_type": "execute_result",
          "data": {
            "text/plain": [
              "12"
            ]
          },
          "metadata": {},
          "execution_count": 14
        }
      ]
    },
    {
      "cell_type": "code",
      "source": [
        "\n",
        "pa=(12,35,65,11.25,26.4,46.25)\n",
        "pa[5]"
      ],
      "metadata": {
        "colab": {
          "base_uri": "https://localhost:8080/"
        },
        "id": "kggSClYkJ2BF",
        "outputId": "4cb5476c-708b-4baf-f6ca-5ef1239c5f06"
      },
      "execution_count": 2,
      "outputs": [
        {
          "output_type": "execute_result",
          "data": {
            "text/plain": [
              "46.25"
            ]
          },
          "metadata": {},
          "execution_count": 2
        }
      ]
    },
    {
      "cell_type": "code",
      "source": [
        "pa=(12,35,65,11.25,26.4,46.25,4+6j,65+4j,35+7j)\n",
        "pa[8]"
      ],
      "metadata": {
        "colab": {
          "base_uri": "https://localhost:8080/"
        },
        "id": "o7tLjI49J9oe",
        "outputId": "387c7951-55f3-496a-cc9b-ddbad7540117"
      },
      "execution_count": null,
      "outputs": [
        {
          "output_type": "execute_result",
          "data": {
            "text/plain": [
              "(35+7j)"
            ]
          },
          "metadata": {},
          "execution_count": 16
        }
      ]
    },
    {
      "cell_type": "markdown",
      "source": [
        "#Using Negative index:"
      ],
      "metadata": {
        "id": "UVwTqsb0KU42"
      }
    },
    {
      "cell_type": "code",
      "source": [
        "state=(\"hyd\",\"delhi\",\"bihar\",\"ap\",\"telangana\",\"tamilnadu\")\n",
        "state[-5]"
      ],
      "metadata": {
        "colab": {
          "base_uri": "https://localhost:8080/",
          "height": 36
        },
        "id": "DNBtVxvDK5lv",
        "outputId": "63667043-b11f-4fe1-b94f-8ace41a47dc7"
      },
      "execution_count": null,
      "outputs": [
        {
          "output_type": "execute_result",
          "data": {
            "text/plain": [
              "'delhi'"
            ],
            "application/vnd.google.colaboratory.intrinsic+json": {
              "type": "string"
            }
          },
          "metadata": {},
          "execution_count": 17
        }
      ]
    },
    {
      "cell_type": "code",
      "source": [
        "pa=(12,35,65,11.25,26.4,46.25,4+6j,65+4j,35+7j)\n",
        "pa[-6]"
      ],
      "metadata": {
        "id": "DALja7F6LuIO",
        "colab": {
          "base_uri": "https://localhost:8080/"
        },
        "outputId": "9c11863e-f3bc-4212-80f0-36e482cd3ce2"
      },
      "execution_count": 1,
      "outputs": [
        {
          "output_type": "execute_result",
          "data": {
            "text/plain": [
              "11.25"
            ]
          },
          "metadata": {},
          "execution_count": 1
        }
      ]
    },
    {
      "cell_type": "code",
      "source": [
        "star=(22,44,66,90,45,23,12,78,45,34,35,68,90,769767)\n",
        "star[-9]\n"
      ],
      "metadata": {
        "colab": {
          "base_uri": "https://localhost:8080/"
        },
        "id": "n6yJP0eq8BSN",
        "outputId": "03d3c3f3-d6d2-464c-8e9a-39362f20a2c7"
      },
      "execution_count": 8,
      "outputs": [
        {
          "output_type": "execute_result",
          "data": {
            "text/plain": [
              "23"
            ]
          },
          "metadata": {},
          "execution_count": 8
        }
      ]
    },
    {
      "cell_type": "code",
      "source": [
        "star=(22,44,66,90,45,23,12,78,45,34,35,68,90,769767)\n",
        "star[-4]"
      ],
      "metadata": {
        "colab": {
          "base_uri": "https://localhost:8080/"
        },
        "id": "QylMkUCO8iQL",
        "outputId": "05515fea-30f3-4842-c027-23710e705bf4"
      },
      "execution_count": 9,
      "outputs": [
        {
          "output_type": "execute_result",
          "data": {
            "text/plain": [
              "35"
            ]
          },
          "metadata": {},
          "execution_count": 9
        }
      ]
    },
    {
      "cell_type": "markdown",
      "source": [
        "#slicing positive:"
      ],
      "metadata": {
        "id": "kJm5I_Ia8tyH"
      }
    },
    {
      "cell_type": "code",
      "source": [
        "dgf=(13,654,65.44,46,854)\n",
        "dgf[0:]"
      ],
      "metadata": {
        "colab": {
          "base_uri": "https://localhost:8080/"
        },
        "id": "TKkHBadW87Nf",
        "outputId": "15f8f665-a6b4-419b-aa25-059a335912d2"
      },
      "execution_count": 10,
      "outputs": [
        {
          "output_type": "execute_result",
          "data": {
            "text/plain": [
              "(13, 654, 65.44, 46, 854)"
            ]
          },
          "metadata": {},
          "execution_count": 10
        }
      ]
    },
    {
      "cell_type": "code",
      "source": [
        "oa=(54,3.27,54,54.44,76)\n",
        "oa[0:3]"
      ],
      "metadata": {
        "colab": {
          "base_uri": "https://localhost:8080/"
        },
        "id": "XEVtdIDl9D2J",
        "outputId": "77ad36a1-b6dd-4576-d437-6e645e2302bb"
      },
      "execution_count": 11,
      "outputs": [
        {
          "output_type": "execute_result",
          "data": {
            "text/plain": [
              "(54, 3.27, 54)"
            ]
          },
          "metadata": {},
          "execution_count": 11
        }
      ]
    },
    {
      "cell_type": "markdown",
      "source": [
        "#slicing Negative:\n"
      ],
      "metadata": {
        "id": "DO236gj29Jyd"
      }
    },
    {
      "cell_type": "code",
      "source": [
        "uw=(51,85,64,54,25,40,27)\n",
        "uw[-6:0]"
      ],
      "metadata": {
        "colab": {
          "base_uri": "https://localhost:8080/"
        },
        "id": "AHPJPk_U9OCE",
        "outputId": "5ddfa7d0-01cb-42c2-b860-ea95381f48bb"
      },
      "execution_count": 12,
      "outputs": [
        {
          "output_type": "execute_result",
          "data": {
            "text/plain": [
              "()"
            ]
          },
          "metadata": {},
          "execution_count": 12
        }
      ]
    },
    {
      "cell_type": "code",
      "source": [
        "\n",
        "uw=(51,85,64,54,25,40,27)\n",
        "uw[-7:-2]"
      ],
      "metadata": {
        "colab": {
          "base_uri": "https://localhost:8080/"
        },
        "id": "84SGLJq69c1e",
        "outputId": "8ff4e00d-30c0-4092-83cf-99afdf1e92a1"
      },
      "execution_count": 13,
      "outputs": [
        {
          "output_type": "execute_result",
          "data": {
            "text/plain": [
              "(51, 85, 64, 54, 25)"
            ]
          },
          "metadata": {},
          "execution_count": 13
        }
      ]
    },
    {
      "cell_type": "markdown",
      "source": [
        "#Functions and Methods of Tuple:\n",
        "\n",
        "\n",
        "###       count(x): Returns the number of times x appears in the tuple\n",
        "\n",
        "index(x[, start[, end]]): Returns the index of the first occurrence of x in the tuple. Raises a ValueError if x is not found. You can also specify a range using start and end\n",
        "\n",
        "len(): Returns the number of elements in a tuple.\n",
        "\n",
        "max(): Returns the largest item in the tuple\n",
        "\n",
        "min(): Returns the smallest item in the tuple\n",
        "\n",
        "sum(): Returns the sum of all items in the tuple (if they are numeric).\n",
        "\n"
      ],
      "metadata": {
        "id": "caaKeBuD9tnJ"
      }
    },
    {
      "cell_type": "markdown",
      "source": [
        "#count:"
      ],
      "metadata": {
        "id": "4bL7MRbC-FvW"
      }
    },
    {
      "cell_type": "code",
      "source": [
        "fj=(35,45,67,89,90,12,23,34,45,56,67,78,79,89,80)\n",
        "fj.count(90)"
      ],
      "metadata": {
        "colab": {
          "base_uri": "https://localhost:8080/"
        },
        "id": "qfNufaf5-TgT",
        "outputId": "8e759abd-bc53-40d4-9666-eec83309ba58"
      },
      "execution_count": 16,
      "outputs": [
        {
          "output_type": "execute_result",
          "data": {
            "text/plain": [
              "1"
            ]
          },
          "metadata": {},
          "execution_count": 16
        }
      ]
    },
    {
      "cell_type": "code",
      "source": [
        "fj=(35,45,67,89,90,12,23,34,45,56,67,78,79,89,80)\n",
        "fj.count(55)"
      ],
      "metadata": {
        "colab": {
          "base_uri": "https://localhost:8080/"
        },
        "id": "mtkUHalD-zA-",
        "outputId": "61ca6e06-6dc9-4a7c-c505-61e4bc7894c8"
      },
      "execution_count": 17,
      "outputs": [
        {
          "output_type": "execute_result",
          "data": {
            "text/plain": [
              "0"
            ]
          },
          "metadata": {},
          "execution_count": 17
        }
      ]
    },
    {
      "cell_type": "markdown",
      "source": [
        "#index:"
      ],
      "metadata": {
        "id": "Nu9kXWbq_SCH"
      }
    },
    {
      "cell_type": "code",
      "source": [
        "fj=(35,45,67,89,90,12,23,34,45,56,67,78,79,89,80)\n",
        "fj.index(90)"
      ],
      "metadata": {
        "colab": {
          "base_uri": "https://localhost:8080/"
        },
        "id": "X3jCwN2h_Vey",
        "outputId": "336f4f38-f6f7-4451-9043-457ce03fe86b"
      },
      "execution_count": 18,
      "outputs": [
        {
          "output_type": "execute_result",
          "data": {
            "text/plain": [
              "4"
            ]
          },
          "metadata": {},
          "execution_count": 18
        }
      ]
    },
    {
      "cell_type": "code",
      "source": [
        "fj=(35,45,67,89,90,12,23,34,45,56,67,78,79,89,80)\n",
        "fj.index(12)"
      ],
      "metadata": {
        "colab": {
          "base_uri": "https://localhost:8080/"
        },
        "id": "YBeOZ2Cl_j1o",
        "outputId": "4e88afaf-4a2e-4c23-9b44-54e4884da66e"
      },
      "execution_count": 19,
      "outputs": [
        {
          "output_type": "execute_result",
          "data": {
            "text/plain": [
              "5"
            ]
          },
          "metadata": {},
          "execution_count": 19
        }
      ]
    },
    {
      "cell_type": "markdown",
      "source": [
        "#len:"
      ],
      "metadata": {
        "id": "gvpGrgYs_rYK"
      }
    },
    {
      "cell_type": "code",
      "source": [
        "fj=(35,45,67,89,90,12,23,34,45,56,67,78,79,89)\n",
        "len(fj)"
      ],
      "metadata": {
        "colab": {
          "base_uri": "https://localhost:8080/"
        },
        "id": "xATz_ei1_to6",
        "outputId": "2dcc90ad-bb68-488f-f5d0-3d0d9431b9d9"
      },
      "execution_count": 20,
      "outputs": [
        {
          "output_type": "execute_result",
          "data": {
            "text/plain": [
              "14"
            ]
          },
          "metadata": {},
          "execution_count": 20
        }
      ]
    },
    {
      "cell_type": "code",
      "source": [
        "fj=(35,45,67,89,90,12,23)\n",
        "len(fj)"
      ],
      "metadata": {
        "colab": {
          "base_uri": "https://localhost:8080/"
        },
        "id": "aZJcP17K_1Cx",
        "outputId": "7087a620-a807-4e54-a047-d4ef83951141"
      },
      "execution_count": 21,
      "outputs": [
        {
          "output_type": "execute_result",
          "data": {
            "text/plain": [
              "7"
            ]
          },
          "metadata": {},
          "execution_count": 21
        }
      ]
    },
    {
      "cell_type": "markdown",
      "source": [
        "#max:"
      ],
      "metadata": {
        "id": "oCUlsicK_9Mp"
      }
    },
    {
      "cell_type": "code",
      "source": [
        "uw=(51,85,64,54,25,40,27)\n",
        "max(uw)"
      ],
      "metadata": {
        "colab": {
          "base_uri": "https://localhost:8080/"
        },
        "id": "1qS8j_5a_-oU",
        "outputId": "15ffa98b-14fc-482d-f2b5-9397495617ca"
      },
      "execution_count": 22,
      "outputs": [
        {
          "output_type": "execute_result",
          "data": {
            "text/plain": [
              "85"
            ]
          },
          "metadata": {},
          "execution_count": 22
        }
      ]
    },
    {
      "cell_type": "markdown",
      "source": [
        "#min:"
      ],
      "metadata": {
        "id": "tfJNe2NXALUJ"
      }
    },
    {
      "cell_type": "code",
      "source": [
        "uw=(51,85,64,54,25,40,27)\n",
        "min(uw)"
      ],
      "metadata": {
        "colab": {
          "base_uri": "https://localhost:8080/"
        },
        "id": "YfTClIcAANZP",
        "outputId": "488c3f92-e558-4549-f085-c19061a0b3e3"
      },
      "execution_count": 23,
      "outputs": [
        {
          "output_type": "execute_result",
          "data": {
            "text/plain": [
              "25"
            ]
          },
          "metadata": {},
          "execution_count": 23
        }
      ]
    },
    {
      "cell_type": "markdown",
      "source": [
        "#sum:"
      ],
      "metadata": {
        "id": "kqCWH9ZMArCD"
      }
    },
    {
      "cell_type": "code",
      "source": [
        "uw=(51,85,64,54,25,40,34,67,89,90,27)\n",
        "sum(uw)"
      ],
      "metadata": {
        "colab": {
          "base_uri": "https://localhost:8080/"
        },
        "id": "z-KDslWzAuRz",
        "outputId": "4f65faa3-a91c-4705-90f6-9ccc70643f69"
      },
      "execution_count": 24,
      "outputs": [
        {
          "output_type": "execute_result",
          "data": {
            "text/plain": [
              "626"
            ]
          },
          "metadata": {},
          "execution_count": 24
        }
      ]
    }
  ]
}