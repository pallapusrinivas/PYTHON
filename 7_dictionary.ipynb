{
  "nbformat": 4,
  "nbformat_minor": 0,
  "metadata": {
    "colab": {
      "provenance": []
    },
    "kernelspec": {
      "name": "python3",
      "display_name": "Python 3"
    },
    "language_info": {
      "name": "python"
    }
  },
  "cells": [
    {
      "cell_type": "markdown",
      "source": [
        "#Dictionary:\n",
        "A Python dictionary is a data structure that stores the value in key: value pairs.\n",
        "\n",
        "The data is stored in key: value pairs in dictionaries, which makes it easier to find values.\n",
        "\n",
        "Dictionaries are written with curly brackets.\n",
        "\n",
        "A dictionary is a collection which is ordered*, changeable and do not allow duplicates.\n",
        "\n",
        "Here are some examples for dictionary given below.\n",
        "\n"
      ],
      "metadata": {
        "id": "2mxk5jxTVk3o"
      }
    },
    {
      "cell_type": "code",
      "source": [
        "thisdict = {\n",
        "  \"brand\": \"Ford\",\n",
        "  \"model\": \"Mustang\",\n",
        "  \"year\": 1964\n",
        "}\n",
        "print(thisdict)"
      ],
      "metadata": {
        "colab": {
          "base_uri": "https://localhost:8080/"
        },
        "id": "1in0OpLgV90V",
        "outputId": "d9fa7236-5757-4543-cc19-5e580f8bb902"
      },
      "execution_count": 1,
      "outputs": [
        {
          "output_type": "stream",
          "name": "stdout",
          "text": [
            "{'brand': 'Ford', 'model': 'Mustang', 'year': 1964}\n"
          ]
        }
      ]
    },
    {
      "cell_type": "markdown",
      "source": [
        "#accessing the dictionary values:"
      ],
      "metadata": {
        "id": "afDUQnCUWa0s"
      }
    },
    {
      "cell_type": "code",
      "source": [
        "pl={\"name\": \"Srinivas\",\"age\": 21,\"country\": \"India\",\"profession\": \"Engineer\"}\n",
        "pl[\"age\"]"
      ],
      "metadata": {
        "colab": {
          "base_uri": "https://localhost:8080/"
        },
        "id": "qVQeyqoCX8Ek",
        "outputId": "2338ba4a-4775-41fb-dccd-d6dfd40eadf3"
      },
      "execution_count": 7,
      "outputs": [
        {
          "output_type": "execute_result",
          "data": {
            "text/plain": [
              "21"
            ]
          },
          "metadata": {},
          "execution_count": 7
        }
      ]
    },
    {
      "cell_type": "code",
      "source": [
        "op={\"name\": \"Srinivas\",\"age\": 21,\"country\": \"India\",\"area\": \"borabanda\"}\n",
        "op[\"area\"]\n"
      ],
      "metadata": {
        "colab": {
          "base_uri": "https://localhost:8080/",
          "height": 36
        },
        "id": "62qXxInFYNZp",
        "outputId": "07a14d35-03bf-4080-e710-efb284ed00cc"
      },
      "execution_count": 9,
      "outputs": [
        {
          "output_type": "execute_result",
          "data": {
            "text/plain": [
              "'borabanda'"
            ],
            "application/vnd.google.colaboratory.intrinsic+json": {
              "type": "string"
            }
          },
          "metadata": {},
          "execution_count": 9
        }
      ]
    },
    {
      "cell_type": "markdown",
      "source": [
        "#Updating the values in an item"
      ],
      "metadata": {
        "id": "qSPhkKTnYp9C"
      }
    },
    {
      "cell_type": "code",
      "source": [
        "des={\"locality\":\"borabanda\",\"doctors\":198,\"engineers\":384,\"teachers\":200}\n",
        "des[\"locality\"]=\"allapur\"\n",
        "print(des)"
      ],
      "metadata": {
        "colab": {
          "base_uri": "https://localhost:8080/"
        },
        "id": "TRGDZXugYrIa",
        "outputId": "c3feb5a9-f089-45b3-9eea-a8b672031f2f"
      },
      "execution_count": 10,
      "outputs": [
        {
          "output_type": "stream",
          "name": "stdout",
          "text": [
            "{'locality': 'allapur', 'doctors': 198, 'engineers': 384, 'teachers': 200}\n"
          ]
        }
      ]
    },
    {
      "cell_type": "markdown",
      "source": [
        "#deleting items from dict"
      ],
      "metadata": {
        "id": "GkaFD3ugZFBl"
      }
    },
    {
      "cell_type": "code",
      "source": [
        "dj={\"locality\":\"borabanda\",\"doctors\":198,\"engineers\":384,\"teachers\":200}\n",
        "del dj[\"locality\"]\n",
        "print(dj)"
      ],
      "metadata": {
        "colab": {
          "base_uri": "https://localhost:8080/"
        },
        "id": "k9LebZCdZF5L",
        "outputId": "05a66a24-b2d2-42e8-a6d4-badd500b961c"
      },
      "execution_count": 11,
      "outputs": [
        {
          "output_type": "stream",
          "name": "stdout",
          "text": [
            "{'doctors': 198, 'engineers': 384, 'teachers': 200}\n"
          ]
        }
      ]
    },
    {
      "cell_type": "markdown",
      "source": [
        "#Method and Functions of Dictionary in Python:\n",
        "clear() Removes all the elements from the dictionary.\n",
        "\n",
        "copy() Returns a copy of the dictionary.\n",
        "\n",
        "fromkeys() Returns a dictionary with the specified keys and value.\n",
        "\n",
        "get() Returns the value of the specified key.\n",
        "\n",
        "items() Returns a list containing a tuple for each key value pair.\n",
        "\n",
        "keys() Returns a list containing the dictionary's keys.\n",
        "\n",
        "pop() Removes the element with the specified key.\n",
        "\n",
        "popitem() Removes the last inserted key-value pair.\n",
        "\n",
        "setdefault() Returns the value of the specified key. If the key does not * * * exist: insert the key, with the specified value.\n",
        "\n",
        "update() Updates the dictionary with the specified key-value pairs.\n",
        "\n",
        "values() Returns a list of all the values in the dictionary."
      ],
      "metadata": {
        "id": "fMIt0aDKZYXZ"
      }
    },
    {
      "cell_type": "markdown",
      "source": [
        "#clear()"
      ],
      "metadata": {
        "id": "XvmI4SD3ap30"
      }
    },
    {
      "cell_type": "code",
      "source": [
        "dj={\"locality\":\"borabanda\",\"doctors\":198,\"engineers\":384,\"teachers\":200}\n",
        "dj.clear()\n",
        "print(dj)"
      ],
      "metadata": {
        "colab": {
          "base_uri": "https://localhost:8080/"
        },
        "id": "-czN41G0auHq",
        "outputId": "20fd66df-65c7-4820-ef77-d6a0c4e08b80"
      },
      "execution_count": 12,
      "outputs": [
        {
          "output_type": "stream",
          "name": "stdout",
          "text": [
            "{}\n"
          ]
        }
      ]
    },
    {
      "cell_type": "markdown",
      "source": [
        "#copy()"
      ],
      "metadata": {
        "id": "bjkq1PJka-Yi"
      }
    },
    {
      "cell_type": "code",
      "source": [
        "dj={\"locality\":\"borabanda\",\"doctors\":198,\"engineers\":384,\"teachers\":200}\n",
        "dj.copy()"
      ],
      "metadata": {
        "colab": {
          "base_uri": "https://localhost:8080/"
        },
        "id": "3hFHC5Zia_yw",
        "outputId": "a1431c8c-dd72-49f3-c566-6ff66684e4e1"
      },
      "execution_count": 13,
      "outputs": [
        {
          "output_type": "execute_result",
          "data": {
            "text/plain": [
              "{'locality': 'borabanda', 'doctors': 198, 'engineers': 384, 'teachers': 200}"
            ]
          },
          "metadata": {},
          "execution_count": 13
        }
      ]
    },
    {
      "cell_type": "markdown",
      "source": [
        "#fromkey"
      ],
      "metadata": {
        "id": "k4j8CzrEbFgI"
      }
    },
    {
      "cell_type": "code",
      "source": [
        "x=(\"srinu\",\"player\")\n",
        "y=(\"cricket\")\n",
        "dk=dict.fromkeys(x,y)\n",
        "print(dk)"
      ],
      "metadata": {
        "colab": {
          "base_uri": "https://localhost:8080/"
        },
        "id": "G4GZEJGsbYd5",
        "outputId": "a6c4264c-db0e-4eaf-ffc3-455afddfab0c"
      },
      "execution_count": 14,
      "outputs": [
        {
          "output_type": "stream",
          "name": "stdout",
          "text": [
            "{'srinu': 'cricket', 'player': 'cricket'}\n"
          ]
        }
      ]
    },
    {
      "cell_type": "markdown",
      "source": [
        "#get()"
      ],
      "metadata": {
        "id": "IHtepxDDb84l"
      }
    },
    {
      "cell_type": "code",
      "source": [
        "dj={\"locality\":\"borabanda\",\"doctors\":198,\"engineers\":384,\"teachers\":200}\n",
        "dj.get(\"locality\")"
      ],
      "metadata": {
        "colab": {
          "base_uri": "https://localhost:8080/",
          "height": 36
        },
        "id": "nPapK0rkb-Nh",
        "outputId": "af6b01e7-35a0-4e50-f63c-af138841bd60"
      },
      "execution_count": 15,
      "outputs": [
        {
          "output_type": "execute_result",
          "data": {
            "text/plain": [
              "'borabanda'"
            ],
            "application/vnd.google.colaboratory.intrinsic+json": {
              "type": "string"
            }
          },
          "metadata": {},
          "execution_count": 15
        }
      ]
    },
    {
      "cell_type": "markdown",
      "source": [
        "#items()"
      ],
      "metadata": {
        "id": "s87dWmokcFgv"
      }
    },
    {
      "cell_type": "code",
      "source": [
        "dj={\"locality\":\"borabanda\",\"doctors\":198,\"engineers\":384,\"teachers\":200}\n",
        "dj.items()"
      ],
      "metadata": {
        "colab": {
          "base_uri": "https://localhost:8080/"
        },
        "id": "8xESUPHKcHvE",
        "outputId": "54aab41d-ae10-45b7-ed6b-c80b1cc0a513"
      },
      "execution_count": 16,
      "outputs": [
        {
          "output_type": "execute_result",
          "data": {
            "text/plain": [
              "dict_items([('locality', 'borabanda'), ('doctors', 198), ('engineers', 384), ('teachers', 200)])"
            ]
          },
          "metadata": {},
          "execution_count": 16
        }
      ]
    },
    {
      "cell_type": "markdown",
      "source": [
        "#keys()"
      ],
      "metadata": {
        "id": "aQnA50yAcNFB"
      }
    },
    {
      "cell_type": "code",
      "source": [
        "dj={\"locality\":\"borabanda\",\"doctors\":198,\"engineers\":384,\"teachers\":200}\n",
        "dj.keys()"
      ],
      "metadata": {
        "colab": {
          "base_uri": "https://localhost:8080/"
        },
        "id": "QROXHNN9cQdb",
        "outputId": "2d84bb70-188e-4f0a-c951-42f14d6a8563"
      },
      "execution_count": 17,
      "outputs": [
        {
          "output_type": "execute_result",
          "data": {
            "text/plain": [
              "dict_keys(['locality', 'doctors', 'engineers', 'teachers'])"
            ]
          },
          "metadata": {},
          "execution_count": 17
        }
      ]
    },
    {
      "cell_type": "markdown",
      "source": [
        "#pop()"
      ],
      "metadata": {
        "id": "0r_cGABXcWzB"
      }
    },
    {
      "cell_type": "code",
      "source": [
        "dj={\"locality\":\"borabanda\",\"doctors\":198,\"engineers\":384,\"teachers\":200}\n",
        "dj.pop(\"locality\")\n",
        "print(dj)"
      ],
      "metadata": {
        "colab": {
          "base_uri": "https://localhost:8080/"
        },
        "id": "DUg7tGoqcYwC",
        "outputId": "edaaa5e9-8f0c-46f2-f10e-7bf93d744ca1"
      },
      "execution_count": 18,
      "outputs": [
        {
          "output_type": "stream",
          "name": "stdout",
          "text": [
            "{'doctors': 198, 'engineers': 384, 'teachers': 200}\n"
          ]
        }
      ]
    },
    {
      "cell_type": "markdown",
      "source": [
        "#popitems()"
      ],
      "metadata": {
        "id": "AE8PjXW8clWn"
      }
    },
    {
      "cell_type": "code",
      "source": [
        "dj={\"locality\":\"borabanda\",\"doctors\":198,\"engineers\":384,\"teachers\":200}\n",
        "dj.popitem()\n",
        "print(dj)"
      ],
      "metadata": {
        "colab": {
          "base_uri": "https://localhost:8080/"
        },
        "id": "KXFPH05zcoSu",
        "outputId": "417b4fcf-ae37-4da3-dc80-9976db80b137"
      },
      "execution_count": 19,
      "outputs": [
        {
          "output_type": "stream",
          "name": "stdout",
          "text": [
            "{'locality': 'borabanda', 'doctors': 198, 'engineers': 384}\n"
          ]
        }
      ]
    },
    {
      "cell_type": "markdown",
      "source": [
        "#setdefault()"
      ],
      "metadata": {
        "id": "BDoG92Llc29L"
      }
    },
    {
      "cell_type": "code",
      "source": [
        "dj={\"locality\":\"borabanda\",\"doctors\":198,\"engineers\":384,\"teachers\":200}\n",
        "dj.setdefault(\"teachers\")\n"
      ],
      "metadata": {
        "colab": {
          "base_uri": "https://localhost:8080/"
        },
        "id": "LuoQ4iJKc6UG",
        "outputId": "f7221951-d224-4dab-e02c-582216d47e59"
      },
      "execution_count": 23,
      "outputs": [
        {
          "output_type": "execute_result",
          "data": {
            "text/plain": [
              "200"
            ]
          },
          "metadata": {},
          "execution_count": 23
        }
      ]
    },
    {
      "cell_type": "markdown",
      "source": [
        "#update()"
      ],
      "metadata": {
        "id": "GRkOKt1Rdjue"
      }
    },
    {
      "cell_type": "code",
      "source": [
        "p={\"name\": \"Srinivas\",\"age\": 21,\"country\": \"India\",\"area\": \"borabanda\"}\n",
        "p.update({\"name\":\"srinu\"})\n",
        "print(p)"
      ],
      "metadata": {
        "colab": {
          "base_uri": "https://localhost:8080/"
        },
        "id": "mjTswhE4dlsS",
        "outputId": "dac5b064-e29a-48bf-830a-cd8b353e6409"
      },
      "execution_count": 24,
      "outputs": [
        {
          "output_type": "stream",
          "name": "stdout",
          "text": [
            "{'name': 'srinu', 'age': 21, 'country': 'India', 'area': 'borabanda'}\n"
          ]
        }
      ]
    },
    {
      "cell_type": "markdown",
      "source": [
        "#values()"
      ],
      "metadata": {
        "id": "vrs1UZiweBI2"
      }
    },
    {
      "cell_type": "code",
      "source": [
        "p={\"name\": \"Srinivas\",\"age\": 21,\"country\": \"India\",\"area\": \"borabanda\"}\n",
        "p.values()"
      ],
      "metadata": {
        "colab": {
          "base_uri": "https://localhost:8080/"
        },
        "id": "iLa6bniaeFoF",
        "outputId": "a67667c7-be06-44a7-9e1e-d6136b2fb9de"
      },
      "execution_count": 25,
      "outputs": [
        {
          "output_type": "execute_result",
          "data": {
            "text/plain": [
              "dict_values(['Srinivas', 21, 'India', 'borabanda'])"
            ]
          },
          "metadata": {},
          "execution_count": 25
        }
      ]
    }
  ]
}