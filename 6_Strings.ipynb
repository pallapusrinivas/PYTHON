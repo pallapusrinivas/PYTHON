{
  "nbformat": 4,
  "nbformat_minor": 0,
  "metadata": {
    "colab": {
      "provenance": []
    },
    "kernelspec": {
      "name": "python3",
      "display_name": "Python 3"
    },
    "language_info": {
      "name": "python"
    }
  },
  "cells": [
    {
      "cell_type": "markdown",
      "source": [
        "#String:\n",
        "\n",
        "\n",
        "##        A String is a data structure in Python Programming that represents a sequence of characters. It is an immutable data type, meaning that once you have created a string, you cannot change it. Python String are used widely in many different applications, such as storing and manipulating text data, representing names, addresses, and other types of data that can be represented as text."
      ],
      "metadata": {
        "id": "fke-H-rJDQJO"
      }
    },
    {
      "cell_type": "code",
      "execution_count": 1,
      "metadata": {
        "colab": {
          "base_uri": "https://localhost:8080/"
        },
        "id": "vG9ntKCsBhJQ",
        "outputId": "ef76043b-30cc-4a0c-e6c4-cfc65cabc507"
      },
      "outputs": [
        {
          "output_type": "stream",
          "name": "stdout",
          "text": [
            "A Computer Science portal for geeks\n",
            "<class 'str'>\n"
          ]
        }
      ],
      "source": [
        "string_0 = \"A Computer Science portal for geeks\"\n",
        "print(string_0)\n",
        "print(type(string_0))"
      ]
    },
    {
      "cell_type": "code",
      "source": [
        "red=\"lets go\"\n",
        "print(type(red))"
      ],
      "metadata": {
        "colab": {
          "base_uri": "https://localhost:8080/"
        },
        "id": "joxFy5QODxMH",
        "outputId": "fad8830f-8f09-4ba2-984b-65ed59ed3dbf"
      },
      "execution_count": 2,
      "outputs": [
        {
          "output_type": "stream",
          "name": "stdout",
          "text": [
            "<class 'str'>\n"
          ]
        }
      ]
    },
    {
      "cell_type": "code",
      "source": [
        "kill=(\"The enemy of you\")\n",
        "print(type(kill))"
      ],
      "metadata": {
        "colab": {
          "base_uri": "https://localhost:8080/"
        },
        "id": "5Q_F5D4XD78l",
        "outputId": "c6b796a7-d850-4fcb-b9a6-c7204fbbab31"
      },
      "execution_count": 3,
      "outputs": [
        {
          "output_type": "stream",
          "name": "stdout",
          "text": [
            "<class 'str'>\n"
          ]
        }
      ]
    },
    {
      "cell_type": "markdown",
      "source": [
        "#Accessing the string elements:"
      ],
      "metadata": {
        "id": "X9Ys8oGYERYE"
      }
    },
    {
      "cell_type": "code",
      "source": [
        "lk=\"they are comming to kill you\"\n",
        "print(lk)"
      ],
      "metadata": {
        "colab": {
          "base_uri": "https://localhost:8080/"
        },
        "id": "BMwLVMTVEZRw",
        "outputId": "e53e7ffb-0325-4b46-ac79-4a8178c987ba"
      },
      "execution_count": 4,
      "outputs": [
        {
          "output_type": "stream",
          "name": "stdout",
          "text": [
            "they are comming to kill you\n"
          ]
        }
      ]
    },
    {
      "cell_type": "code",
      "source": [
        "lk=\"they are comming to kill you\"\n",
        "lk[5]"
      ],
      "metadata": {
        "colab": {
          "base_uri": "https://localhost:8080/",
          "height": 36
        },
        "id": "D7tp2JKlFLp6",
        "outputId": "6c23678a-c7b5-49f3-bc22-86289758e3d1"
      },
      "execution_count": 5,
      "outputs": [
        {
          "output_type": "execute_result",
          "data": {
            "text/plain": [
              "'a'"
            ],
            "application/vnd.google.colaboratory.intrinsic+json": {
              "type": "string"
            }
          },
          "metadata": {},
          "execution_count": 5
        }
      ]
    },
    {
      "cell_type": "code",
      "source": [
        "lk=\"they are comming to kill you\"\n",
        "lk[-5]"
      ],
      "metadata": {
        "colab": {
          "base_uri": "https://localhost:8080/",
          "height": 36
        },
        "id": "0GqWq48mFQMD",
        "outputId": "5c3de4de-4c09-491e-eda8-787f8c2120f1"
      },
      "execution_count": 6,
      "outputs": [
        {
          "output_type": "execute_result",
          "data": {
            "text/plain": [
              "'l'"
            ],
            "application/vnd.google.colaboratory.intrinsic+json": {
              "type": "string"
            }
          },
          "metadata": {},
          "execution_count": 6
        }
      ]
    },
    {
      "cell_type": "code",
      "source": [
        "lk=\"they are comming to kill you\"\n",
        "lk[4:7]"
      ],
      "metadata": {
        "colab": {
          "base_uri": "https://localhost:8080/",
          "height": 36
        },
        "id": "5PqPqSiqFUM9",
        "outputId": "1f5994a4-65c2-4328-ecc9-d9d73a80ff8f"
      },
      "execution_count": 7,
      "outputs": [
        {
          "output_type": "execute_result",
          "data": {
            "text/plain": [
              "' ar'"
            ],
            "application/vnd.google.colaboratory.intrinsic+json": {
              "type": "string"
            }
          },
          "metadata": {},
          "execution_count": 7
        }
      ]
    },
    {
      "cell_type": "code",
      "source": [
        "lk=\"they are comming to kill you\"\n",
        "lk[-6:-9]"
      ],
      "metadata": {
        "colab": {
          "base_uri": "https://localhost:8080/",
          "height": 36
        },
        "id": "tXA3OMyrFbj8",
        "outputId": "df6221bf-03b0-4fe7-ee24-373db0cc06bd"
      },
      "execution_count": 8,
      "outputs": [
        {
          "output_type": "execute_result",
          "data": {
            "text/plain": [
              "''"
            ],
            "application/vnd.google.colaboratory.intrinsic+json": {
              "type": "string"
            }
          },
          "metadata": {},
          "execution_count": 8
        }
      ]
    },
    {
      "cell_type": "code",
      "source": [
        "lk=\"they are comming to kill you\"\n",
        "lk[:]"
      ],
      "metadata": {
        "colab": {
          "base_uri": "https://localhost:8080/",
          "height": 36
        },
        "id": "xTffDTZSFhED",
        "outputId": "617a0958-acf6-45b9-ba57-d1841992d711"
      },
      "execution_count": 9,
      "outputs": [
        {
          "output_type": "execute_result",
          "data": {
            "text/plain": [
              "'they are comming to kill you'"
            ],
            "application/vnd.google.colaboratory.intrinsic+json": {
              "type": "string"
            }
          },
          "metadata": {},
          "execution_count": 9
        }
      ]
    },
    {
      "cell_type": "markdown",
      "source": [
        "#format method"
      ],
      "metadata": {
        "id": "As9mI01oFp-M"
      }
    },
    {
      "cell_type": "markdown",
      "source": [
        "#1).format method:"
      ],
      "metadata": {
        "id": "-kVnNuckFwJC"
      }
    },
    {
      "cell_type": "code",
      "source": [
        "name=\"SRINIVAS\"\n",
        "obj=\"eat\"\n",
        "kar=\"{} has to {} for the SRAVAN\".format(name,obj)\n",
        "kar"
      ],
      "metadata": {
        "colab": {
          "base_uri": "https://localhost:8080/",
          "height": 36
        },
        "id": "cPZjTrxSF4bi",
        "outputId": "e2267d87-17eb-4dfe-86d0-ca5863601010"
      },
      "execution_count": 10,
      "outputs": [
        {
          "output_type": "execute_result",
          "data": {
            "text/plain": [
              "'SRINIVAS has to eat for the SRAVAN'"
            ],
            "application/vnd.google.colaboratory.intrinsic+json": {
              "type": "string"
            }
          },
          "metadata": {},
          "execution_count": 10
        }
      ]
    },
    {
      "cell_type": "code",
      "source": [
        "name=\"Srinivas\"\n",
        "obj=\"practice\"\n",
        "sports=\"{} has to {} for the next match\".format(name,obj)\n",
        "sports"
      ],
      "metadata": {
        "colab": {
          "base_uri": "https://localhost:8080/",
          "height": 36
        },
        "id": "XTeL86OrGeLG",
        "outputId": "cacab86c-91b7-4553-ff00-004c0950369a"
      },
      "execution_count": 13,
      "outputs": [
        {
          "output_type": "execute_result",
          "data": {
            "text/plain": [
              "'Srinivas has to practice for the next match'"
            ],
            "application/vnd.google.colaboratory.intrinsic+json": {
              "type": "string"
            }
          },
          "metadata": {},
          "execution_count": 13
        }
      ]
    },
    {
      "cell_type": "code",
      "source": [],
      "metadata": {
        "id": "je8tSpIkHGKq"
      },
      "execution_count": null,
      "outputs": []
    },
    {
      "cell_type": "markdown",
      "source": [
        "#Functions and Methods of a Strings :\n",
        "## Python strings come with a variety of built-in functions and methods that allow you to manipulate and work with text efficiently. Here’s a comprehensive overview of some common string methods, along with examples:"
      ],
      "metadata": {
        "id": "GINjEtR6Hdgb"
      }
    },
    {
      "cell_type": "markdown",
      "source": [
        "#upper(): Converts all characters to uppercase."
      ],
      "metadata": {
        "id": "nkUMp8GfHp4x"
      }
    },
    {
      "cell_type": "code",
      "source": [
        "kl=\" i am srinivas\"\n",
        "kl.upper()"
      ],
      "metadata": {
        "colab": {
          "base_uri": "https://localhost:8080/",
          "height": 36
        },
        "id": "0LMUqdBIHmXf",
        "outputId": "0cc293d7-505b-4088-c0d2-b54d4f8d3d9c"
      },
      "execution_count": 14,
      "outputs": [
        {
          "output_type": "execute_result",
          "data": {
            "text/plain": [
              "' I AM SRINIVAS'"
            ],
            "application/vnd.google.colaboratory.intrinsic+json": {
              "type": "string"
            }
          },
          "metadata": {},
          "execution_count": 14
        }
      ]
    },
    {
      "cell_type": "markdown",
      "source": [
        "#lower(): Converts all characters to lowercase."
      ],
      "metadata": {
        "id": "gwEwaOc_H8yK"
      }
    },
    {
      "cell_type": "code",
      "source": [
        "kl=\" i am srinivas\"\n",
        "kl.lower()"
      ],
      "metadata": {
        "colab": {
          "base_uri": "https://localhost:8080/",
          "height": 36
        },
        "id": "Nj_4DD4eIAWl",
        "outputId": "5d603571-efe0-416d-f54a-0d86e07125b9"
      },
      "execution_count": 15,
      "outputs": [
        {
          "output_type": "execute_result",
          "data": {
            "text/plain": [
              "' i am srinivas'"
            ],
            "application/vnd.google.colaboratory.intrinsic+json": {
              "type": "string"
            }
          },
          "metadata": {},
          "execution_count": 15
        }
      ]
    },
    {
      "cell_type": "markdown",
      "source": [
        "#strip(): Removes leading and trailing whitespace."
      ],
      "metadata": {
        "id": "2h-tfFXwIJac"
      }
    },
    {
      "cell_type": "code",
      "source": [
        "kl=\"       i am srinivas      \"\n",
        "kl.strip()"
      ],
      "metadata": {
        "colab": {
          "base_uri": "https://localhost:8080/",
          "height": 36
        },
        "id": "vosl1xDJIN9Z",
        "outputId": "0b1501c1-7ce9-489a-e7ba-a95ca21e6ea5"
      },
      "execution_count": 17,
      "outputs": [
        {
          "output_type": "execute_result",
          "data": {
            "text/plain": [
              "'i am srinivas'"
            ],
            "application/vnd.google.colaboratory.intrinsic+json": {
              "type": "string"
            }
          },
          "metadata": {},
          "execution_count": 17
        }
      ]
    },
    {
      "cell_type": "markdown",
      "source": [
        "#replace(old, new): Replaces occurrences of a substring with another substring."
      ],
      "metadata": {
        "id": "lzczgG2bIbpV"
      }
    },
    {
      "cell_type": "code",
      "source": [
        "nm=\"very good\"\n",
        "nm.replace(\"good\",\"bad\")"
      ],
      "metadata": {
        "colab": {
          "base_uri": "https://localhost:8080/",
          "height": 36
        },
        "id": "bb1LTe7OIgcI",
        "outputId": "5e94951e-5061-450f-d50f-01173f946c1a"
      },
      "execution_count": 19,
      "outputs": [
        {
          "output_type": "execute_result",
          "data": {
            "text/plain": [
              "'very bad'"
            ],
            "application/vnd.google.colaboratory.intrinsic+json": {
              "type": "string"
            }
          },
          "metadata": {},
          "execution_count": 19
        }
      ]
    },
    {
      "cell_type": "markdown",
      "source": [
        "#split(sep): Splits a string into a list using a specified separator."
      ],
      "metadata": {
        "id": "KKWetA7qJSgz"
      }
    },
    {
      "cell_type": "code",
      "source": [
        "gk=\"lets play the game\"\n",
        "gk.split()"
      ],
      "metadata": {
        "colab": {
          "base_uri": "https://localhost:8080/"
        },
        "id": "MAb73QmEJT2p",
        "outputId": "be6dd63b-3fb8-4eae-9d88-fbed349a5969"
      },
      "execution_count": 20,
      "outputs": [
        {
          "output_type": "execute_result",
          "data": {
            "text/plain": [
              "['lets', 'play', 'the', 'game']"
            ]
          },
          "metadata": {},
          "execution_count": 20
        }
      ]
    },
    {
      "cell_type": "markdown",
      "source": [
        "#join(iterable): Joins elements of an iterable (like a list) into a single string, with a specified separator.\n",
        "\n",
        "     "
      ],
      "metadata": {
        "id": "BF5FQ8esJcgs"
      }
    },
    {
      "cell_type": "code",
      "source": [
        "dj=[\"lets\",\"play\",\"the\",\"game\"]\n",
        "\" \".join(dj)"
      ],
      "metadata": {
        "colab": {
          "base_uri": "https://localhost:8080/",
          "height": 36
        },
        "id": "GcL-mJfFJtWn",
        "outputId": "08a933d5-43da-441b-a072-dfa58bbfb20d"
      },
      "execution_count": 25,
      "outputs": [
        {
          "output_type": "execute_result",
          "data": {
            "text/plain": [
              "'lets play the game'"
            ],
            "application/vnd.google.colaboratory.intrinsic+json": {
              "type": "string"
            }
          },
          "metadata": {},
          "execution_count": 25
        }
      ]
    },
    {
      "cell_type": "markdown",
      "source": [
        "# Returns the lowest index of the substring if found; otherwise, returns -1.."
      ],
      "metadata": {
        "id": "SIH7q34xLWf4"
      }
    },
    {
      "cell_type": "code",
      "source": [
        "ld=\"push the door\"\n",
        "ld.find(\"the\")"
      ],
      "metadata": {
        "colab": {
          "base_uri": "https://localhost:8080/"
        },
        "id": "8igbVAPCLXsu",
        "outputId": "3b652a8d-2157-448f-8f48-9fbb0d2f7cb6"
      },
      "execution_count": 26,
      "outputs": [
        {
          "output_type": "execute_result",
          "data": {
            "text/plain": [
              "5"
            ]
          },
          "metadata": {},
          "execution_count": 26
        }
      ]
    },
    {
      "cell_type": "markdown",
      "source": [
        "#count(sub): Returns the number of non-overlapping occurrences of the substring."
      ],
      "metadata": {
        "id": "GbeU9JFaLqx6"
      }
    },
    {
      "cell_type": "code",
      "source": [
        "ld=\"push the door\"\n",
        "ld.count(\"push\")"
      ],
      "metadata": {
        "colab": {
          "base_uri": "https://localhost:8080/"
        },
        "id": "TD25jh-qLv6L",
        "outputId": "f9655bdb-e0a2-4f6e-cf6b-fb09c451430e"
      },
      "execution_count": 27,
      "outputs": [
        {
          "output_type": "execute_result",
          "data": {
            "text/plain": [
              "1"
            ]
          },
          "metadata": {},
          "execution_count": 27
        }
      ]
    },
    {
      "cell_type": "markdown",
      "source": [
        "#startswith(prefix): Checks if the string starts with the specified prefix."
      ],
      "metadata": {
        "id": "vZzOqwcmL89K"
      }
    },
    {
      "cell_type": "code",
      "source": [
        "ld=\"push the door\"\n",
        "ld.startswith(\"door\")"
      ],
      "metadata": {
        "colab": {
          "base_uri": "https://localhost:8080/"
        },
        "id": "TPM1QTYxMDPi",
        "outputId": "f198a889-f1c8-4969-d4e7-488148d96945"
      },
      "execution_count": 28,
      "outputs": [
        {
          "output_type": "execute_result",
          "data": {
            "text/plain": [
              "False"
            ]
          },
          "metadata": {},
          "execution_count": 28
        }
      ]
    },
    {
      "cell_type": "markdown",
      "source": [
        "\n",
        "#endswith(suffix): Checks if the string ends with the specified suffix."
      ],
      "metadata": {
        "id": "9UV4GP-zMSqI"
      }
    },
    {
      "cell_type": "code",
      "source": [
        "ld=\"push the door\"\n",
        "ld.endswith(\"the\")"
      ],
      "metadata": {
        "colab": {
          "base_uri": "https://localhost:8080/"
        },
        "id": "G5s-f1m0MT-Z",
        "outputId": "4369fdd3-9ab4-4c09-e07b-9903ccdc4d11"
      },
      "execution_count": 29,
      "outputs": [
        {
          "output_type": "execute_result",
          "data": {
            "text/plain": [
              "False"
            ]
          },
          "metadata": {},
          "execution_count": 29
        }
      ]
    },
    {
      "cell_type": "markdown",
      "source": [
        "#title(): Converts the first character of each word to uppercase."
      ],
      "metadata": {
        "id": "s0L8VDHWMlhn"
      }
    },
    {
      "cell_type": "code",
      "source": [
        "lk=\"they are comming to kill you\"\n",
        "lk.title()"
      ],
      "metadata": {
        "colab": {
          "base_uri": "https://localhost:8080/",
          "height": 36
        },
        "id": "QS2g1zcxMn_v",
        "outputId": "ace21d4b-21b8-4baf-8214-b6bea229a90f"
      },
      "execution_count": 30,
      "outputs": [
        {
          "output_type": "execute_result",
          "data": {
            "text/plain": [
              "'They Are Comming To Kill You'"
            ],
            "application/vnd.google.colaboratory.intrinsic+json": {
              "type": "string"
            }
          },
          "metadata": {},
          "execution_count": 30
        }
      ]
    },
    {
      "cell_type": "markdown",
      "source": [
        "#capitalize(): Capitalizes the first character of the string."
      ],
      "metadata": {
        "id": "yoQlaW1SM34D"
      }
    },
    {
      "cell_type": "code",
      "source": [
        "lk=\"they are comming to kill you\"\n",
        "lk.capitalize()"
      ],
      "metadata": {
        "colab": {
          "base_uri": "https://localhost:8080/",
          "height": 36
        },
        "id": "DJJdZVChM68o",
        "outputId": "bc735df4-565a-4467-8114-a00c13a66224"
      },
      "execution_count": 31,
      "outputs": [
        {
          "output_type": "execute_result",
          "data": {
            "text/plain": [
              "'They are comming to kill you'"
            ],
            "application/vnd.google.colaboratory.intrinsic+json": {
              "type": "string"
            }
          },
          "metadata": {},
          "execution_count": 31
        }
      ]
    },
    {
      "cell_type": "markdown",
      "source": [
        "#isdigit(): Returns True if all characters in the string are digits.\n"
      ],
      "metadata": {
        "id": "04dTguzxNHvS"
      }
    },
    {
      "cell_type": "code",
      "source": [
        "lk=\"they are comming to kill you\"\n",
        "lk.isdigit()"
      ],
      "metadata": {
        "colab": {
          "base_uri": "https://localhost:8080/"
        },
        "id": "Vkiq4DfeNK1o",
        "outputId": "f152e522-d994-482f-d9bf-b896d561027d"
      },
      "execution_count": 32,
      "outputs": [
        {
          "output_type": "execute_result",
          "data": {
            "text/plain": [
              "False"
            ]
          },
          "metadata": {},
          "execution_count": 32
        }
      ]
    },
    {
      "cell_type": "markdown",
      "source": [
        "#isalpha(): Returns True if all characters in the string are alphabetic."
      ],
      "metadata": {
        "id": "o92945HfN7_-"
      }
    },
    {
      "cell_type": "code",
      "source": [
        "lk=\"they are comming to kill you\"\n",
        "lk.isalpha()"
      ],
      "metadata": {
        "colab": {
          "base_uri": "https://localhost:8080/"
        },
        "id": "pFf1wFspN84b",
        "outputId": "d5cff0d5-fe24-4b30-8c82-a8c38f2ed00e"
      },
      "execution_count": 33,
      "outputs": [
        {
          "output_type": "execute_result",
          "data": {
            "text/plain": [
              "False"
            ]
          },
          "metadata": {},
          "execution_count": 33
        }
      ]
    },
    {
      "cell_type": "markdown",
      "source": [
        "#swapcase(): Swap the cases of all characters in a string."
      ],
      "metadata": {
        "id": "bd1DZvlvON8D"
      }
    },
    {
      "cell_type": "code",
      "source": [
        "lk=\"they are comming to kill you\"\n",
        "lk.swapcase()"
      ],
      "metadata": {
        "colab": {
          "base_uri": "https://localhost:8080/",
          "height": 36
        },
        "id": "LHoH-HScOP3u",
        "outputId": "a9f6c8d0-69aa-4cb1-c8e8-2b79522e6c4c"
      },
      "execution_count": 34,
      "outputs": [
        {
          "output_type": "execute_result",
          "data": {
            "text/plain": [
              "'THEY ARE COMMING TO KILL YOU'"
            ],
            "application/vnd.google.colaboratory.intrinsic+json": {
              "type": "string"
            }
          },
          "metadata": {},
          "execution_count": 34
        }
      ]
    },
    {
      "cell_type": "markdown",
      "source": [
        "#isprintable():Returns “True” if all characters in the string are printable or the string is empty.\n",
        "     "
      ],
      "metadata": {
        "id": "uXEnItyIObR9"
      }
    },
    {
      "cell_type": "code",
      "source": [
        "lk=\"they are comming to kill you\"\n",
        "lk.isprintable()"
      ],
      "metadata": {
        "colab": {
          "base_uri": "https://localhost:8080/"
        },
        "id": "rN8KKrXrOjPC",
        "outputId": "43b67d04-31a6-472d-d95a-f5c56dcec302"
      },
      "execution_count": 35,
      "outputs": [
        {
          "output_type": "execute_result",
          "data": {
            "text/plain": [
              "True"
            ]
          },
          "metadata": {},
          "execution_count": 35
        }
      ]
    },
    {
      "cell_type": "markdown",
      "source": [
        "#partition():Splits the string at the first occurrence of the separator"
      ],
      "metadata": {
        "id": "pqWrj4hvOq8F"
      }
    },
    {
      "cell_type": "code",
      "source": [
        "lk=\"they are comming to kill you\"\n",
        "lk.partition(\"are\")"
      ],
      "metadata": {
        "colab": {
          "base_uri": "https://localhost:8080/"
        },
        "id": "1lusIbHCOvEl",
        "outputId": "89b36b3d-76c5-4894-8f2c-7fe3b546db44"
      },
      "execution_count": 36,
      "outputs": [
        {
          "output_type": "execute_result",
          "data": {
            "text/plain": [
              "('they ', 'are', ' comming to kill you')"
            ]
          },
          "metadata": {},
          "execution_count": 36
        }
      ]
    }
  ]
}