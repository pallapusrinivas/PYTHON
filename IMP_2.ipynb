{
  "nbformat": 4,
  "nbformat_minor": 0,
  "metadata": {
    "colab": {
      "provenance": []
    },
    "kernelspec": {
      "name": "python3",
      "display_name": "Python 3"
    },
    "language_info": {
      "name": "python"
    }
  },
  "cells": [
    {
      "cell_type": "markdown",
      "source": [
        "#write a python program to print'hello world\""
      ],
      "metadata": {
        "id": "m9dvkomag-qu"
      }
    },
    {
      "cell_type": "code",
      "source": [
        "print('Hello, world!')"
      ],
      "metadata": {
        "colab": {
          "base_uri": "https://localhost:8080/"
        },
        "id": "iifGdm6Mgp_T",
        "outputId": "af962066-2663-4d89-889f-09d32913d82e"
      },
      "execution_count": 1,
      "outputs": [
        {
          "output_type": "stream",
          "name": "stdout",
          "text": [
            "Hello, world!\n"
          ]
        }
      ]
    },
    {
      "cell_type": "markdown",
      "source": [
        "#write a python program to calculate sum of four numbers."
      ],
      "metadata": {
        "id": "TzMpn-REg8d2"
      }
    },
    {
      "cell_type": "code",
      "source": [
        "a=50\n",
        "b=60\n",
        "c=40\n",
        "h=a+b+c\n",
        "print(h)"
      ],
      "metadata": {
        "colab": {
          "base_uri": "https://localhost:8080/"
        },
        "id": "Un5U8MT1hSZs",
        "outputId": "65444001-0342-4123-a826-434be373314b"
      },
      "execution_count": 3,
      "outputs": [
        {
          "output_type": "stream",
          "name": "stdout",
          "text": [
            "150\n"
          ]
        }
      ]
    },
    {
      "cell_type": "markdown",
      "source": [
        "#create a variable for storing a person name,age, average score."
      ],
      "metadata": {
        "id": "osmTQcFgiNeW"
      }
    },
    {
      "cell_type": "code",
      "source": [
        "# Define a function 'personal_details'.\n",
        "def personal_details():\n",
        "    # Define variables 'name' and 'age' and assign values to them.\n",
        "    name, age = \"Simon\", 19\n",
        "    # Define a variable 'address' and assign a value to it.\n",
        "    score = \89\"\n",
        "    # Print the personal details using string formatting.\n",
        "    print(\"Name: {}\\nAge: {}\\nAddress: {}\".format(name, age, score))\n",
        "\n",
        "# Call the 'personal_details' function to display the details.\n",
        "personal_details()"
      ],
      "metadata": {
        "colab": {
          "base_uri": "https://localhost:8080/"
        },
        "id": "R5AupQBliauN",
        "outputId": "42ec997f-77d9-4758-d128-41e105af2753"
      },
      "execution_count": 5,
      "outputs": [
        {
          "output_type": "stream",
          "name": "stdout",
          "text": [
            "Name: Simon\n",
            "Age: 19\n",
            "Address: Bangalore, Karnataka, India\n"
          ]
        }
      ]
    },
    {
      "cell_type": "markdown",
      "source": [
        "#write a python program to concatination two strings."
      ],
      "metadata": {
        "id": "q8AW6MwYjnF7"
      }
    },
    {
      "cell_type": "code",
      "source": [
        "# Two string concatenation using Python program\n",
        "# Initialisation of two strings\n",
        "str1 = \"Hello\"\n",
        "str2 = \"JavaTpoint\"\n",
        "\n",
        "# join() method is used to combine the strings\n",
        "print(\"\".join([str1, str2]))\n",
        "\n",
        "# join() method is used to combine\n",
        "# the string with a separator Space(\" \")\n",
        "str3 = \" \".join([str1, str2])\n",
        "\n",
        "print(\"The new combined string is:\",str3)"
      ],
      "metadata": {
        "colab": {
          "base_uri": "https://localhost:8080/"
        },
        "id": "ZZrptuV2jxGD",
        "outputId": "37c59cee-8585-42ac-e0b6-71ac318457a5"
      },
      "execution_count": 6,
      "outputs": [
        {
          "output_type": "stream",
          "name": "stdout",
          "text": [
            "HelloJavaTpoint\n",
            "The new combined string is: Hello JavaTpoint\n"
          ]
        }
      ]
    },
    {
      "cell_type": "markdown",
      "source": [
        "# create a list of vegetables and access them using index."
      ],
      "metadata": {
        "id": "82zofQO1kEqb"
      }
    },
    {
      "cell_type": "code",
      "source": [
        "#list of vegetables\n",
        "veg=[\"carrot\",\"onion\",\"potato\"]\n",
        "print(veg.index(\"onion\"))"
      ],
      "metadata": {
        "colab": {
          "base_uri": "https://localhost:8080/"
        },
        "id": "IZCwecd1kI_L",
        "outputId": "80dc743a-b68c-47a4-e3ec-deed16799223"
      },
      "execution_count": 7,
      "outputs": [
        {
          "output_type": "stream",
          "name": "stdout",
          "text": [
            "1\n"
          ]
        }
      ]
    },
    {
      "cell_type": "markdown",
      "source": [
        "#convert the temp from calsius to fheat"
      ],
      "metadata": {
        "id": "wzpaww58lJjS"
      }
    },
    {
      "cell_type": "code",
      "source": [
        "# Temperature in celsius degree\n",
        "celsius = 47\n",
        "\n",
        "# Converting the temperature to\n",
        "# fehrenheit using the formula\n",
        "fahrenheit = (celsius * 1.8) + 32\n",
        "\n",
        "# printing the result\n",
        "print('%.2f Celsius is equivalent to: %.2f Fahrenheit'\n",
        "      % (celsius, fahrenheit))"
      ],
      "metadata": {
        "colab": {
          "base_uri": "https://localhost:8080/"
        },
        "id": "R3bcAO0dlx3y",
        "outputId": "e15c1ddc-ca8d-4742-a1a1-3f138f94bfe0"
      },
      "execution_count": 8,
      "outputs": [
        {
          "output_type": "stream",
          "name": "stdout",
          "text": [
            "47.00 Celsius is equivalent to: 116.60 Fahrenheit\n"
          ]
        }
      ]
    },
    {
      "cell_type": "markdown",
      "source": [
        "#write a python program to calculate area of rectangle by giving length and weadth"
      ],
      "metadata": {
        "id": "UNykysDcmWVM"
      }
    },
    {
      "cell_type": "code",
      "source": [
        "def rectangle_area(length, width):\n",
        "    \"\"\"\n",
        "    Calculates the area of a rectangle.\n",
        "    Parameters:\n",
        "        length (float): Length of the rectangle.\n",
        "        width (float): Width of the rectangle.\n",
        "    Returns:\n",
        "        float: The area of the rectangle.\n",
        "    \"\"\"\n",
        "    return length * width\n",
        "if __name__ == \"__main__\":\n",
        "    try:\n",
        "        length = float(input(\"Enter the length of the rectangle: \"))\n",
        "        width = float(input(\"Enter the width of the rectangle: \"))\n",
        "        if length <= 0 or width <= 0:\n",
        "            print(\"Please enter positive values for length and width.\")\n",
        "        else:\n",
        "            area = rectangle_area(length, width)\n",
        "            print(\"The area of the rectangle is:\", area)\n",
        "    except ValueError:\n",
        "        print(\"Invalid input. Please enter numeric values for length and width.\")"
      ],
      "metadata": {
        "colab": {
          "base_uri": "https://localhost:8080/"
        },
        "id": "yQcj9Abhm1HI",
        "outputId": "2dbd7870-8e16-4e24-f083-a5cbf0ce1a4f"
      },
      "execution_count": 9,
      "outputs": [
        {
          "output_type": "stream",
          "name": "stdout",
          "text": [
            "Enter the length of the rectangle: 90\n",
            "Enter the width of the rectangle: 60\n",
            "The area of the rectangle is: 5400.0\n"
          ]
        }
      ]
    },
    {
      "cell_type": "markdown",
      "source": [
        "#create a list with numbers and identify max num & min num"
      ],
      "metadata": {
        "id": "OK6BqEwEnSNc"
      }
    },
    {
      "cell_type": "code",
      "source": [
        "lg=[35,89,60,46,38,59]\n",
        "print(max(lg))"
      ],
      "metadata": {
        "colab": {
          "base_uri": "https://localhost:8080/"
        },
        "id": "85lgsqyMne8-",
        "outputId": "18bf094d-bd8b-4a21-9714-7b39461a9484"
      },
      "execution_count": 10,
      "outputs": [
        {
          "output_type": "stream",
          "name": "stdout",
          "text": [
            "89\n"
          ]
        }
      ]
    },
    {
      "cell_type": "code",
      "source": [
        "lg=[35,89,60,46,38,59]\n",
        "print(min(lg))"
      ],
      "metadata": {
        "colab": {
          "base_uri": "https://localhost:8080/"
        },
        "id": "7fbg2TKhn_6X",
        "outputId": "488c1f5c-b6ea-4ab1-ab7f-eb2d48be05c8"
      },
      "execution_count": 11,
      "outputs": [
        {
          "output_type": "stream",
          "name": "stdout",
          "text": [
            "35\n"
          ]
        }
      ]
    },
    {
      "cell_type": "markdown",
      "source": [
        "#write a python program to check if a number is even."
      ],
      "metadata": {
        "id": "l3NPsMfUoRmf"
      }
    },
    {
      "cell_type": "code",
      "source": [
        "# Python program to check if the input number is odd or even.\n",
        "# A number is even if division by 2 gives a remainder of 0.\n",
        "# If the remainder is 1, it is an odd number.\n",
        "\n",
        "num = int(input(\"Enter a number: \"))\n",
        "if (num % 2) == 0:\n",
        "   print(\"{0} is Even\".format(num))\n",
        "else:\n",
        "   print(\"{0} is Odd\".format(num))"
      ],
      "metadata": {
        "colab": {
          "base_uri": "https://localhost:8080/"
        },
        "id": "VMLTptuTqW4E",
        "outputId": "2ba7c2d8-993a-4672-e3cb-cc6fbe862242"
      },
      "execution_count": 17,
      "outputs": [
        {
          "output_type": "stream",
          "name": "stdout",
          "text": [
            "Enter a number: 90\n",
            "90 is Even\n"
          ]
        }
      ]
    },
    {
      "cell_type": "markdown",
      "source": [
        "#check if a given string contains only numeric or not"
      ],
      "metadata": {
        "id": "oNy_p3XxqhSq"
      }
    },
    {
      "cell_type": "code",
      "source": [
        "# Initialising string\n",
        "ini_string1 = '1234556'\n",
        "ini_string2 = 'ab123bc'\n",
        "\n",
        "# printing initial string\n",
        "print (\"Initial Strings : \", ini_string1, ini_string2)\n",
        "\n",
        "# Using isnumeric()\n",
        "if ini_string1.isnumeric():\n",
        "    print (\"String1 contains all numbers\")\n",
        "else:\n",
        "    print (\"String1 doesn't contains all numbers\")\n",
        "\n",
        "if ini_string2.isnumeric():\n",
        "    print (\"String2 contains all numbers\")\n",
        "else:\n",
        "    print (\"String2 doesn't contains all numbers\")"
      ],
      "metadata": {
        "colab": {
          "base_uri": "https://localhost:8080/"
        },
        "id": "beQMEGvNqtR1",
        "outputId": "d65913e3-db9d-4a15-eac5-3339302e1fca"
      },
      "execution_count": 18,
      "outputs": [
        {
          "output_type": "stream",
          "name": "stdout",
          "text": [
            "Initial Strings :  1234556 ab123bc\n",
            "String1 contains all numbers\n",
            "String2 doesn't contains all numbers\n"
          ]
        }
      ]
    }
  ]
}
