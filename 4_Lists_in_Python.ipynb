{
  "nbformat": 4,
  "nbformat_minor": 0,
  "metadata": {
    "colab": {
      "provenance": []
    },
    "kernelspec": {
      "name": "python3",
      "display_name": "Python 3"
    },
    "language_info": {
      "name": "python"
    }
  },
  "cells": [
    {
      "cell_type": "markdown",
      "source": [
        "#List:\n",
        "\n",
        "##        Lists are used to store multiple items in a single variable.\n",
        "\n",
        "## Lists are one of 4 built-in data types in Python used to store collections of data, the other 3 are Tuple, Set, and Dictionary, all with different qualities and usage.\n",
        "\n",
        "## Lists are created using square brackets."
      ],
      "metadata": {
        "id": "pGvnsmgWz1iE"
      }
    },
    {
      "cell_type": "code",
      "source": [
        "thislist = [\"apple\", \"banana\", \"cherry\"]\n",
        "print(thislist)\n"
      ],
      "metadata": {
        "colab": {
          "base_uri": "https://localhost:8080/"
        },
        "id": "jHRnNmb90jhQ",
        "outputId": "aa60265f-4444-4bc6-9f8a-5fb5ea82a4cb"
      },
      "execution_count": 1,
      "outputs": [
        {
          "output_type": "stream",
          "name": "stdout",
          "text": [
            "['apple', 'banana', 'cherry']\n"
          ]
        }
      ]
    },
    {
      "cell_type": "markdown",
      "source": [
        "#Index():\n",
        "\n",
        "##          The index() method returns the position at the first occurrence of the specified value.\n",
        "\n",
        " 1.positive index.\n",
        " 2.negative index."
      ],
      "metadata": {
        "id": "J_I-VTT107rX"
      }
    },
    {
      "cell_type": "code",
      "source": [
        "fruits = [4, 55, 64, 32, 16, 32]\n",
        "\n",
        "x = fruits.index(32)\n",
        "\n",
        "print(x)\n"
      ],
      "metadata": {
        "colab": {
          "base_uri": "https://localhost:8080/"
        },
        "id": "bj4QWbCC2d1C",
        "outputId": "9876355f-8c76-4ed9-e959-cedd1734f2a5"
      },
      "execution_count": 2,
      "outputs": [
        {
          "output_type": "stream",
          "name": "stdout",
          "text": [
            "3\n"
          ]
        }
      ]
    },
    {
      "cell_type": "markdown",
      "source": [
        "1.positive index:\n",
        "\n",
        "           Increases from 0 to 1."
      ],
      "metadata": {
        "id": "MGJO9r2E2hvJ"
      }
    },
    {
      "cell_type": "code",
      "source": [
        "index=[2,1,5,6,3,5]\n",
        "index.index(5)"
      ],
      "metadata": {
        "colab": {
          "base_uri": "https://localhost:8080/"
        },
        "id": "-Q0IAb753NLG",
        "outputId": "f5ac324b-59f3-437a-81da-dbd4b962b4ad"
      },
      "execution_count": 4,
      "outputs": [
        {
          "output_type": "execute_result",
          "data": {
            "text/plain": [
              "2"
            ]
          },
          "metadata": {},
          "execution_count": 4
        }
      ]
    },
    {
      "cell_type": "code",
      "source": [
        "index=[4,6,8,3,0,2,1]\n",
        "index.index(0)"
      ],
      "metadata": {
        "colab": {
          "base_uri": "https://localhost:8080/"
        },
        "id": "U7SM2wOI37NG",
        "outputId": "1a88f1e7-a7ca-45ce-b8e5-ef343d158490"
      },
      "execution_count": 6,
      "outputs": [
        {
          "output_type": "execute_result",
          "data": {
            "text/plain": [
              "4"
            ]
          },
          "metadata": {},
          "execution_count": 6
        }
      ]
    },
    {
      "cell_type": "markdown",
      "source": [
        "#2.Negative index:\n",
        "           \n",
        "##           each traversal moves from tail to head, starting with the last element."
      ],
      "metadata": {
        "id": "W21VzXsr4LV3"
      }
    },
    {
      "cell_type": "code",
      "source": [
        "xyz = (22, 3, 45, 4, 2.4, 2, 56, 890, 1)\n",
        "print(xyz[-4])\n"
      ],
      "metadata": {
        "colab": {
          "base_uri": "https://localhost:8080/"
        },
        "id": "-4HkcbUb4VwI",
        "outputId": "c763627b-4bc1-45bc-df4e-f7ea9b0e89e1"
      },
      "execution_count": 9,
      "outputs": [
        {
          "output_type": "stream",
          "name": "stdout",
          "text": [
            "2\n"
          ]
        }
      ]
    },
    {
      "cell_type": "markdown",
      "source": [
        "#Slicing:\n",
        "\n",
        "\n",
        "         You can return a range of characters by using the slice syntax.\n",
        "\n",
        "## Specify the start index and the end index, separated by a colon, to return a part of the string."
      ],
      "metadata": {
        "id": "OirhtJ7244d-"
      }
    },
    {
      "cell_type": "code",
      "source": [
        "b = \"Hello, World!\"\n",
        "print(b[2:5])\n"
      ],
      "metadata": {
        "colab": {
          "base_uri": "https://localhost:8080/"
        },
        "id": "IxdbvQO25nE2",
        "outputId": "9ea46946-4ee0-4fd7-fb5a-71e259824058"
      },
      "execution_count": 10,
      "outputs": [
        {
          "output_type": "stream",
          "name": "stdout",
          "text": [
            "llo\n"
          ]
        }
      ]
    },
    {
      "cell_type": "code",
      "source": [
        "b = \"Hello, World!\"\n",
        "print(b[:5])"
      ],
      "metadata": {
        "colab": {
          "base_uri": "https://localhost:8080/"
        },
        "id": "6M3qBRwt5thR",
        "outputId": "7f612741-ea21-4024-c634-7687b8eda565"
      },
      "execution_count": 11,
      "outputs": [
        {
          "output_type": "stream",
          "name": "stdout",
          "text": [
            "Hello\n"
          ]
        }
      ]
    },
    {
      "cell_type": "code",
      "source": [
        "b = \"Hello, World!\"\n",
        "print(b[2:])"
      ],
      "metadata": {
        "colab": {
          "base_uri": "https://localhost:8080/"
        },
        "id": "uyCF6ozy50Fq",
        "outputId": "1fe4b803-40bc-4594-82c0-8b5c86b802ba"
      },
      "execution_count": 12,
      "outputs": [
        {
          "output_type": "stream",
          "name": "stdout",
          "text": [
            "llo, World!\n"
          ]
        }
      ]
    },
    {
      "cell_type": "markdown",
      "source": [
        "#Concatenation:\n",
        "\n",
        "\n",
        "##           concatenation means add strings together.\n",
        "\n",
        "##            Use the + character to add a variable to another variable."
      ],
      "metadata": {
        "id": "CKOmYTI16d-T"
      }
    },
    {
      "cell_type": "code",
      "source": [
        "x = \"Python is \"\n",
        "y = \"awesome\"\n",
        "z =  x + y\n",
        "print(z)\n"
      ],
      "metadata": {
        "colab": {
          "base_uri": "https://localhost:8080/"
        },
        "id": "bk1IC3GI6v3B",
        "outputId": "5e41c7d4-4abd-4a27-d559-b3b6aeaa50fb"
      },
      "execution_count": 13,
      "outputs": [
        {
          "output_type": "stream",
          "name": "stdout",
          "text": [
            "Python is awesome\n"
          ]
        }
      ]
    },
    {
      "cell_type": "code",
      "source": [
        "a = \"Hello\"\n",
        "\n",
        "b = \"World\"\n",
        "c = a +\"  \"+ b\n",
        "print(c)\n"
      ],
      "metadata": {
        "colab": {
          "base_uri": "https://localhost:8080/"
        },
        "id": "qSTCtFmX64q4",
        "outputId": "bc4163c4-fd1d-469e-f042-42a88d2f02c4"
      },
      "execution_count": 19,
      "outputs": [
        {
          "output_type": "stream",
          "name": "stdout",
          "text": [
            "Hello  World\n"
          ]
        }
      ]
    },
    {
      "cell_type": "markdown",
      "source": [
        "#Repetation:\n",
        "         \n",
        "##         In Python, you can multiply strings to create a new string that repeats the original string a certain number of times. This technique is known as string repetition or string replication.\n",
        "\n",
        "## The multiplication operator (*) is used to repeat a string a specified number of times."
      ],
      "metadata": {
        "id": "9XlHMUR77ko7"
      }
    },
    {
      "cell_type": "code",
      "source": [
        "string = \"SRINU \"\n",
        "result = string * 10\n",
        "print(result)"
      ],
      "metadata": {
        "colab": {
          "base_uri": "https://localhost:8080/"
        },
        "id": "sOyx9Z7o8Jm3",
        "outputId": "f7a1cd1f-c4d5-4b90-f94d-1e8417316e6f"
      },
      "execution_count": 20,
      "outputs": [
        {
          "output_type": "stream",
          "name": "stdout",
          "text": [
            "SRINU SRINU SRINU SRINU SRINU SRINU SRINU SRINU SRINU SRINU \n"
          ]
        }
      ]
    },
    {
      "cell_type": "markdown",
      "source": [
        "# Mutable:\n",
        "\n",
        "##          Mutable is when something is changeable or has the ability to change. In Python, ‘mutable’ is the ability of objects to change their values."
      ],
      "metadata": {
        "id": "wnTYbRnU8WNP"
      }
    },
    {
      "cell_type": "code",
      "source": [
        "lst=[1,5,8,90,40,39]\n",
        "lst[4]"
      ],
      "metadata": {
        "colab": {
          "base_uri": "https://localhost:8080/"
        },
        "id": "GQCPK9MN9A_d",
        "outputId": "52914a69-4b02-423b-e4e6-f43236ee10d9"
      },
      "execution_count": 25,
      "outputs": [
        {
          "output_type": "execute_result",
          "data": {
            "text/plain": [
              "40"
            ]
          },
          "metadata": {},
          "execution_count": 25
        }
      ]
    },
    {
      "cell_type": "code",
      "source": [
        "lst=[1,5,8,90,40,39]\n",
        "lst[4]=\"srinu\"\n",
        "print(lst)"
      ],
      "metadata": {
        "colab": {
          "base_uri": "https://localhost:8080/"
        },
        "id": "xu98stMe9ZXi",
        "outputId": "51622091-9b96-4bc5-f87c-dcd8d7ea8d9f"
      },
      "execution_count": 29,
      "outputs": [
        {
          "output_type": "stream",
          "name": "stdout",
          "text": [
            "[1, 5, 8, 90, 'srinu', 39]\n"
          ]
        }
      ]
    },
    {
      "cell_type": "markdown",
      "source": [
        "#Append:\n",
        "\n",
        "##        The append() method appends an element to the end of the list."
      ],
      "metadata": {
        "id": "UIv2j-yQ-DAH"
      }
    },
    {
      "cell_type": "code",
      "source": [
        "a = [\"apple\", \"banana\", \"cherry\"]\n",
        "a.append(\"pineapple\")\n",
        "print(a)\n"
      ],
      "metadata": {
        "colab": {
          "base_uri": "https://localhost:8080/"
        },
        "id": "bFX8bHSO-PqU",
        "outputId": "73c3f7d4-2c0b-45c9-86e6-9107f27cb6df"
      },
      "execution_count": 33,
      "outputs": [
        {
          "output_type": "stream",
          "name": "stdout",
          "text": [
            "['apple', 'banana', 'cherry', 'pineapple']\n"
          ]
        }
      ]
    },
    {
      "cell_type": "code",
      "source": [
        "z=[2,5,8,3,9,10]\n",
        "z.append(\"srinu\")\n",
        "print(z)"
      ],
      "metadata": {
        "colab": {
          "base_uri": "https://localhost:8080/"
        },
        "id": "T151dDTz-7U3",
        "outputId": "f031db35-4954-4c7f-d1fe-3fca051254d8"
      },
      "execution_count": 34,
      "outputs": [
        {
          "output_type": "stream",
          "name": "stdout",
          "text": [
            "[2, 5, 8, 3, 9, 10, 'srinu']\n"
          ]
        }
      ]
    },
    {
      "cell_type": "markdown",
      "source": [
        "#insert:\n",
        "\n",
        "##        The insert() method inserts the specified value at the specified position."
      ],
      "metadata": {
        "id": "Dy63KZ50_Vgk"
      }
    },
    {
      "cell_type": "code",
      "source": [
        "fruits = ['apple', 'banana', 'cherry']\n",
        "\n",
        "fruits.insert(1, \"orange\")\n",
        "print(fruits)"
      ],
      "metadata": {
        "colab": {
          "base_uri": "https://localhost:8080/"
        },
        "id": "xdMaYkIE_74R",
        "outputId": "f5aab9ab-7ab3-4e45-a952-b58c0355b054"
      },
      "execution_count": 36,
      "outputs": [
        {
          "output_type": "stream",
          "name": "stdout",
          "text": [
            "['apple', 'orange', 'banana', 'cherry']\n"
          ]
        }
      ]
    },
    {
      "cell_type": "markdown",
      "source": [
        "#remove:\n",
        "\n",
        "The remove() method removes the first occurrence of the element with the specified value.\n",
        "\n",
        "\n",
        "        "
      ],
      "metadata": {
        "id": "BHMa3P7HAFXd"
      }
    },
    {
      "cell_type": "code",
      "source": [
        "fruits = ['apple', 'banana', 'cherry']\n",
        "\n",
        "fruits.remove(\"banana\")\n",
        "print(fruits)"
      ],
      "metadata": {
        "colab": {
          "base_uri": "https://localhost:8080/"
        },
        "id": "C8_8wGMlAPGz",
        "outputId": "84087e29-0300-4395-acbe-c9816535418e"
      },
      "execution_count": 37,
      "outputs": [
        {
          "output_type": "stream",
          "name": "stdout",
          "text": [
            "['apple', 'cherry']\n"
          ]
        }
      ]
    }
  ]
}