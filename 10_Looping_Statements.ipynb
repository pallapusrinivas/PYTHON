{
  "nbformat": 4,
  "nbformat_minor": 0,
  "metadata": {
    "colab": {
      "provenance": []
    },
    "kernelspec": {
      "name": "python3",
      "display_name": "Python 3"
    },
    "language_info": {
      "name": "python"
    }
  },
  "cells": [
    {
      "cell_type": "markdown",
      "source": [
        "#Looping statements:\n",
        "     \n",
        "##        Python programming language provides two types of Python loopshecking time. In this article, we will look at Python loops and understand their working with the help of examp – For loop and While loop to handle looping requirements. Loops in Python provides three ways for executing the loops.\n",
        "\n",
        "## While all the ways provide similar basic functionality, they differ in their syntax and condition-checking time. In this article, we will look at Python loops and understand their working with the help of examples."
      ],
      "metadata": {
        "id": "o88DAEqwofO6"
      }
    },
    {
      "cell_type": "markdown",
      "source": [
        "#while loop:\n",
        "\n",
        "           \n",
        "##         In Python, a while loop is used to execute a block of statements repeatedly until a given condition is satisfied. When the condition becomes false, the line immediately after the loop in the program is executed."
      ],
      "metadata": {
        "id": "9uE5OjMWp3XI"
      }
    },
    {
      "cell_type": "code",
      "source": [
        "i=0\n",
        "while i<=20:\n",
        "    print(i)\n",
        "    i=i+1"
      ],
      "metadata": {
        "colab": {
          "base_uri": "https://localhost:8080/"
        },
        "id": "dCIdhL7oqNJi",
        "outputId": "d39bcb5b-0cba-4817-a8a7-5ddf4ee6c529"
      },
      "execution_count": 1,
      "outputs": [
        {
          "output_type": "stream",
          "name": "stdout",
          "text": [
            "0\n",
            "1\n",
            "2\n",
            "3\n",
            "4\n",
            "5\n",
            "6\n",
            "7\n",
            "8\n",
            "9\n",
            "10\n",
            "11\n",
            "12\n",
            "13\n",
            "14\n",
            "15\n",
            "16\n",
            "17\n",
            "18\n",
            "19\n",
            "20\n"
          ]
        }
      ]
    },
    {
      "cell_type": "code",
      "source": [
        "r=90\n",
        "while r<=100:\n",
        "    print(r)\n",
        "    r=r+1"
      ],
      "metadata": {
        "colab": {
          "base_uri": "https://localhost:8080/"
        },
        "id": "nLpPUKjmq9j0",
        "outputId": "01823fec-3ae2-499e-992f-97324ccb8de6"
      },
      "execution_count": 6,
      "outputs": [
        {
          "output_type": "stream",
          "name": "stdout",
          "text": [
            "90\n",
            "91\n",
            "92\n",
            "93\n",
            "94\n",
            "95\n",
            "96\n",
            "97\n",
            "98\n",
            "99\n",
            "100\n"
          ]
        }
      ]
    },
    {
      "cell_type": "markdown",
      "source": [
        "#For loop:\n",
        "\n",
        "##          For loops are used for sequential traversal. For example: traversing a list or string or array etc. In Python, there is “for in” loop which is similar to foreach loop in other languages. Let us learn how to use for loops in Python for sequential traversals with examples."
      ],
      "metadata": {
        "id": "LdwEx4VYr11q"
      }
    },
    {
      "cell_type": "code",
      "source": [
        "word=\"Srinivas\"\n",
        "for i in word:\n",
        "    print(i)"
      ],
      "metadata": {
        "colab": {
          "base_uri": "https://localhost:8080/"
        },
        "id": "MtXq-6masL9m",
        "outputId": "e3a56ed0-053d-463e-90e7-038581d9c298"
      },
      "execution_count": 9,
      "outputs": [
        {
          "output_type": "stream",
          "name": "stdout",
          "text": [
            "S\n",
            "r\n",
            "i\n",
            "n\n",
            "i\n",
            "v\n",
            "a\n",
            "s\n"
          ]
        }
      ]
    },
    {
      "cell_type": "code",
      "source": [
        "kabaddi=[\"telugu\",\"mumbai\",\"kolkata\",\"bangalore\"]\n",
        "for i in kabaddi:\n",
        "    print(i)"
      ],
      "metadata": {
        "colab": {
          "base_uri": "https://localhost:8080/"
        },
        "id": "kOhtb5y-s1OQ",
        "outputId": "e48dc94d-9991-4fed-833b-0d3c67f96011"
      },
      "execution_count": 10,
      "outputs": [
        {
          "output_type": "stream",
          "name": "stdout",
          "text": [
            "telugu\n",
            "mumbai\n",
            "kolkata\n",
            "bangalore\n"
          ]
        }
      ]
    },
    {
      "cell_type": "code",
      "source": [
        "g={\"telugu\",\"mumbai\",\"kolkata\",\"bangalore\"}\n",
        "for i in g:\n",
        "    print(i)"
      ],
      "metadata": {
        "colab": {
          "base_uri": "https://localhost:8080/"
        },
        "id": "YVPxQFwktilI",
        "outputId": "2b28a036-7afd-4a2f-e6c1-959bff409807"
      },
      "execution_count": 11,
      "outputs": [
        {
          "output_type": "stream",
          "name": "stdout",
          "text": [
            "telugu\n",
            "bangalore\n",
            "kolkata\n",
            "mumbai\n"
          ]
        }
      ]
    },
    {
      "cell_type": "code",
      "source": [
        "lst=[1,2,3,4,5,6,7,8,9,10]\n",
        "for i in lst:\n",
        "    print(i)"
      ],
      "metadata": {
        "colab": {
          "base_uri": "https://localhost:8080/"
        },
        "id": "LsK_v1s6tth7",
        "outputId": "b9765eec-bcba-46bf-b56f-a7bce1a5a501"
      },
      "execution_count": 12,
      "outputs": [
        {
          "output_type": "stream",
          "name": "stdout",
          "text": [
            "1\n",
            "2\n",
            "3\n",
            "4\n",
            "5\n",
            "6\n",
            "7\n",
            "8\n",
            "9\n",
            "10\n"
          ]
        }
      ]
    },
    {
      "cell_type": "code",
      "source": [
        "str=\"Srinivas\",'srinu','srinu123','''pushpa'''\n",
        "for i in str:\n",
        "    print(i)"
      ],
      "metadata": {
        "colab": {
          "base_uri": "https://localhost:8080/"
        },
        "id": "OF-qw8Jot6SO",
        "outputId": "c7ad5f06-a01d-40ec-96aa-8663c1865e36"
      },
      "execution_count": 18,
      "outputs": [
        {
          "output_type": "stream",
          "name": "stdout",
          "text": [
            "Srinivas\n",
            "srinu\n",
            "srinu123\n",
            "pushpa\n"
          ]
        }
      ]
    }
  ]
}