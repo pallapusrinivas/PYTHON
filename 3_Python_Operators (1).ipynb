{
  "nbformat": 4,
  "nbformat_minor": 0,
  "metadata": {
    "colab": {
      "provenance": []
    },
    "kernelspec": {
      "name": "python3",
      "display_name": "Python 3"
    },
    "language_info": {
      "name": "python"
    }
  },
  "cells": [
    {
      "cell_type": "markdown",
      "source": [
        "#Python Operators:\n",
        "\n",
        "Operators are used to perform operations on variables and values.\n",
        "\n",
        "Python divides the operators in the following groups:\n",
        "\n",
        "1.Arithmetic operators\n",
        "2.Assignment operators\n",
        "3.Comparison operators\n",
        "4.Logical operators\n",
        "5.Identity operators\n",
        "6.Membership operators\n",
        "7.Bitwise operators\n",
        "\n",
        "#1. Arithmetic Operators:\n",
        "\n",
        "   Arithmetic operators are used with numeric values to perform common mathematical operations.\n",
        "   \n",
        "\n",
        "\n",
        "\n"
      ],
      "metadata": {
        "id": "ycA6jdTxTe9w"
      }
    },
    {
      "cell_type": "markdown",
      "source": [
        "#Addition"
      ],
      "metadata": {
        "id": "SZRrgooTWXWT"
      }
    },
    {
      "cell_type": "code",
      "source": [
        "a=40\n",
        "b=70\n",
        "c=a+b\n",
        "print(c)"
      ],
      "metadata": {
        "colab": {
          "base_uri": "https://localhost:8080/"
        },
        "id": "FTx8Urd7WbCk",
        "outputId": "01ca92a8-9e03-4579-fba9-8ccae404f957"
      },
      "execution_count": null,
      "outputs": [
        {
          "output_type": "stream",
          "name": "stdout",
          "text": [
            "110\n"
          ]
        }
      ]
    },
    {
      "cell_type": "code",
      "source": [
        "s=30\n",
        "f=300\n",
        "g=s+f\n",
        "print(g)"
      ],
      "metadata": {
        "colab": {
          "base_uri": "https://localhost:8080/"
        },
        "id": "n_fXrYSNWwk6",
        "outputId": "af655491-513b-4720-a922-5c4aa9960505"
      },
      "execution_count": null,
      "outputs": [
        {
          "output_type": "stream",
          "name": "stdout",
          "text": [
            "330\n"
          ]
        }
      ]
    },
    {
      "cell_type": "markdown",
      "source": [
        "#subtraction"
      ],
      "metadata": {
        "id": "JHWHsexWW7cq"
      }
    },
    {
      "cell_type": "code",
      "source": [
        "a=40\n",
        "b=70\n",
        "c=a-b\n",
        "print(c)"
      ],
      "metadata": {
        "colab": {
          "base_uri": "https://localhost:8080/"
        },
        "id": "92xfj4jyXBGy",
        "outputId": "96b538d3-23d1-4044-dd9d-9c3f1b9baf61"
      },
      "execution_count": null,
      "outputs": [
        {
          "output_type": "stream",
          "name": "stdout",
          "text": [
            "-30\n"
          ]
        }
      ]
    },
    {
      "cell_type": "code",
      "source": [
        "f=40\n",
        "g=30\n",
        "d=f-g\n",
        "print(g)"
      ],
      "metadata": {
        "colab": {
          "base_uri": "https://localhost:8080/"
        },
        "id": "PY5cCv_MXOaC",
        "outputId": "ca27a28f-a6b0-47cd-974c-b55901cfa32e"
      },
      "execution_count": null,
      "outputs": [
        {
          "output_type": "stream",
          "name": "stdout",
          "text": [
            "30\n"
          ]
        }
      ]
    },
    {
      "cell_type": "markdown",
      "source": [
        "#Multiplaction"
      ],
      "metadata": {
        "id": "zV0aJzvnXZAa"
      }
    },
    {
      "cell_type": "code",
      "source": [
        "d=30\n",
        "f=50\n",
        "k=d*f\n",
        "print(k)"
      ],
      "metadata": {
        "colab": {
          "base_uri": "https://localhost:8080/"
        },
        "id": "OZRe5f0EXhp1",
        "outputId": "d941a3da-eff4-4645-c3f9-cc33fbf2e888"
      },
      "execution_count": null,
      "outputs": [
        {
          "output_type": "stream",
          "name": "stdout",
          "text": [
            "1500\n"
          ]
        }
      ]
    },
    {
      "cell_type": "code",
      "source": [
        "t=10\n",
        "p=30\n",
        "pr=t*p\n",
        "print(pr)"
      ],
      "metadata": {
        "colab": {
          "base_uri": "https://localhost:8080/"
        },
        "id": "Jn24COj-Xskg",
        "outputId": "d897cf4a-5914-4b31-e511-ecd972de9f6c"
      },
      "execution_count": null,
      "outputs": [
        {
          "output_type": "stream",
          "name": "stdout",
          "text": [
            "300\n"
          ]
        }
      ]
    },
    {
      "cell_type": "markdown",
      "source": [
        "#Division"
      ],
      "metadata": {
        "id": "bCbCqIvMX490"
      }
    },
    {
      "cell_type": "code",
      "source": [
        "d=50\n",
        "dd=90\n",
        "pr=d/dd\n",
        "print(pr)"
      ],
      "metadata": {
        "colab": {
          "base_uri": "https://localhost:8080/"
        },
        "id": "sYNkZz8RX7fU",
        "outputId": "4316a7ab-9fff-4487-e787-1cd84bfbb3e9"
      },
      "execution_count": null,
      "outputs": [
        {
          "output_type": "stream",
          "name": "stdout",
          "text": [
            "0.5555555555555556\n"
          ]
        }
      ]
    },
    {
      "cell_type": "code",
      "source": [
        "s=30\n",
        "a=20\n",
        "p=s/a\n",
        "print(p)"
      ],
      "metadata": {
        "colab": {
          "base_uri": "https://localhost:8080/"
        },
        "id": "iQTzR6NzYLAj",
        "outputId": "e1b1fa6d-5163-4fe3-fd76-98aee973f25f"
      },
      "execution_count": null,
      "outputs": [
        {
          "output_type": "stream",
          "name": "stdout",
          "text": [
            "1.5\n"
          ]
        }
      ]
    },
    {
      "cell_type": "markdown",
      "source": [
        "#Modulus"
      ],
      "metadata": {
        "id": "lXDevCVtYTib"
      }
    },
    {
      "cell_type": "code",
      "source": [
        "from os import wait\n",
        "d=30\n",
        "w=20\n",
        "p=d%w\n",
        "print(p)"
      ],
      "metadata": {
        "colab": {
          "base_uri": "https://localhost:8080/"
        },
        "id": "PxIjBxNOYYd3",
        "outputId": "c9f5ec41-8800-4a99-8c0a-e23b94ece00e"
      },
      "execution_count": null,
      "outputs": [
        {
          "output_type": "stream",
          "name": "stdout",
          "text": [
            "10\n"
          ]
        }
      ]
    },
    {
      "cell_type": "code",
      "source": [
        "d=3\n",
        "e=90\n",
        "s=d%e\n",
        "print(s)"
      ],
      "metadata": {
        "colab": {
          "base_uri": "https://localhost:8080/"
        },
        "id": "CIuNgv1XYpSn",
        "outputId": "57683cc9-cd74-4ed8-9e45-119e74872482"
      },
      "execution_count": null,
      "outputs": [
        {
          "output_type": "stream",
          "name": "stdout",
          "text": [
            "3\n"
          ]
        }
      ]
    },
    {
      "cell_type": "markdown",
      "source": [
        "#Exponentiation"
      ],
      "metadata": {
        "id": "v9uQiKpDYz72"
      }
    },
    {
      "cell_type": "code",
      "source": [
        "d=3\n",
        "u=5\n",
        "s=d**u\n",
        "print(s)"
      ],
      "metadata": {
        "colab": {
          "base_uri": "https://localhost:8080/"
        },
        "id": "4Q811O4LY64R",
        "outputId": "a5fc71e5-7008-4575-9d46-777563135536"
      },
      "execution_count": null,
      "outputs": [
        {
          "output_type": "stream",
          "name": "stdout",
          "text": [
            "243\n"
          ]
        }
      ]
    },
    {
      "cell_type": "code",
      "source": [
        "s=40\n",
        "a=30\n",
        "r=s**a\n",
        "print(r)"
      ],
      "metadata": {
        "colab": {
          "base_uri": "https://localhost:8080/"
        },
        "id": "efr0utfrZGpr",
        "outputId": "8d39e177-1abf-4a19-aa15-46ad930891bc"
      },
      "execution_count": null,
      "outputs": [
        {
          "output_type": "stream",
          "name": "stdout",
          "text": [
            "1152921504606846976000000000000000000000000000000\n"
          ]
        }
      ]
    },
    {
      "cell_type": "markdown",
      "source": [
        "#Floor Division"
      ],
      "metadata": {
        "id": "kvjO9ZCCZOmC"
      }
    },
    {
      "cell_type": "code",
      "source": [
        "w=3\n",
        "u=50\n",
        "d=u//w\n",
        "print(d)"
      ],
      "metadata": {
        "colab": {
          "base_uri": "https://localhost:8080/"
        },
        "id": "tbk5lM-kZT6t",
        "outputId": "a0c65318-fd82-435e-8fb7-5b4ea06b0f25"
      },
      "execution_count": null,
      "outputs": [
        {
          "output_type": "stream",
          "name": "stdout",
          "text": [
            "16\n"
          ]
        }
      ]
    },
    {
      "cell_type": "code",
      "source": [
        "d=40\n",
        "s=65\n",
        "ss=d//s\n",
        "print(ss)"
      ],
      "metadata": {
        "colab": {
          "base_uri": "https://localhost:8080/"
        },
        "id": "RiexlAowZkCK",
        "outputId": "6af67791-fc40-4a68-8d95-48c07ed13854"
      },
      "execution_count": null,
      "outputs": [
        {
          "output_type": "stream",
          "name": "stdout",
          "text": [
            "0\n"
          ]
        }
      ]
    },
    {
      "cell_type": "markdown",
      "source": [
        "#2.Assignment Operators:\n",
        "       \n",
        "       "
      ],
      "metadata": {
        "id": "MOsBZSgBaWxw"
      }
    },
    {
      "cell_type": "markdown",
      "source": [
        "Assignment operators are used to assign values to variables."
      ],
      "metadata": {
        "id": "NK7Q_NM9a0kf"
      }
    },
    {
      "cell_type": "markdown",
      "source": [
        "#assignment operator(=)"
      ],
      "metadata": {
        "id": "DByZUBP8bPVm"
      }
    },
    {
      "cell_type": "code",
      "source": [
        "x=45\n",
        "print(x)"
      ],
      "metadata": {
        "colab": {
          "base_uri": "https://localhost:8080/"
        },
        "id": "WtbxGgsabbNp",
        "outputId": "af3d1196-7284-4f0c-b075-406e18992f73"
      },
      "execution_count": null,
      "outputs": [
        {
          "output_type": "stream",
          "name": "stdout",
          "text": [
            "45\n"
          ]
        }
      ]
    },
    {
      "cell_type": "code",
      "source": [
        "f=36\n",
        "print(f)"
      ],
      "metadata": {
        "colab": {
          "base_uri": "https://localhost:8080/"
        },
        "id": "vYP6p26XbzMS",
        "outputId": "30887764-6698-4c85-df11-0a877ea3f482"
      },
      "execution_count": null,
      "outputs": [
        {
          "output_type": "stream",
          "name": "stdout",
          "text": [
            "36\n"
          ]
        }
      ]
    },
    {
      "cell_type": "markdown",
      "source": [
        "#Add assignment (+=)"
      ],
      "metadata": {
        "id": "xw-YY0q3b3I7"
      }
    },
    {
      "cell_type": "code",
      "source": [
        "e=40\n",
        "e+=30\n",
        "print(e)\n"
      ],
      "metadata": {
        "colab": {
          "base_uri": "https://localhost:8080/"
        },
        "id": "kDklx6CRb_r6",
        "outputId": "06a7c3c3-0603-4303-883f-6a81e2ea9013"
      },
      "execution_count": null,
      "outputs": [
        {
          "output_type": "stream",
          "name": "stdout",
          "text": [
            "70\n"
          ]
        }
      ]
    },
    {
      "cell_type": "code",
      "source": [
        "d=30\n",
        "d+=20\n",
        "print(d)"
      ],
      "metadata": {
        "colab": {
          "base_uri": "https://localhost:8080/"
        },
        "id": "4AaZ3jQscLjc",
        "outputId": "c82f2f8b-5403-4863-9b9f-de4a6c14c140"
      },
      "execution_count": null,
      "outputs": [
        {
          "output_type": "stream",
          "name": "stdout",
          "text": [
            "50\n"
          ]
        }
      ]
    },
    {
      "cell_type": "markdown",
      "source": [
        "#Sub assignment (-=)"
      ],
      "metadata": {
        "id": "WRvVug2YcSgd"
      }
    },
    {
      "cell_type": "code",
      "source": [
        "g=20\n",
        "g-=30\n",
        "print(g)"
      ],
      "metadata": {
        "colab": {
          "base_uri": "https://localhost:8080/"
        },
        "id": "8wRplmexcYtv",
        "outputId": "b775f4ae-97fa-4f60-c411-39af5811ed84"
      },
      "execution_count": null,
      "outputs": [
        {
          "output_type": "stream",
          "name": "stdout",
          "text": [
            "-10\n"
          ]
        }
      ]
    },
    {
      "cell_type": "code",
      "source": [
        "e=20\n",
        "e-=10\n",
        "print(e)"
      ],
      "metadata": {
        "colab": {
          "base_uri": "https://localhost:8080/"
        },
        "id": "LuJrJauBchf6",
        "outputId": "6ea39fde-b876-44ba-843a-d2604ebb2757"
      },
      "execution_count": null,
      "outputs": [
        {
          "output_type": "stream",
          "name": "stdout",
          "text": [
            "10\n"
          ]
        }
      ]
    },
    {
      "cell_type": "markdown",
      "source": [
        "#Mult assignment (*=)"
      ],
      "metadata": {
        "id": "I_62ZDAicpEt"
      }
    },
    {
      "cell_type": "code",
      "source": [
        "w=10\n",
        "w*=50\n",
        "print(w)"
      ],
      "metadata": {
        "colab": {
          "base_uri": "https://localhost:8080/"
        },
        "id": "2tNoppadc084",
        "outputId": "d00e8000-373a-44f6-d492-350911a56bbc"
      },
      "execution_count": null,
      "outputs": [
        {
          "output_type": "stream",
          "name": "stdout",
          "text": [
            "500\n"
          ]
        }
      ]
    },
    {
      "cell_type": "code",
      "source": [
        "a=70\n",
        "a*=20\n",
        "print(a)"
      ],
      "metadata": {
        "colab": {
          "base_uri": "https://localhost:8080/"
        },
        "id": "qmE22AOjc7Nm",
        "outputId": "15976f02-8e5f-4941-8e5b-21868029814d"
      },
      "execution_count": null,
      "outputs": [
        {
          "output_type": "stream",
          "name": "stdout",
          "text": [
            "1400\n"
          ]
        }
      ]
    },
    {
      "cell_type": "markdown",
      "source": [
        "#Division assignment (/=)"
      ],
      "metadata": {
        "id": "YQLCnN6VdCTw"
      }
    },
    {
      "cell_type": "code",
      "source": [
        "k=20\n",
        "k/=20\n",
        "print(k)"
      ],
      "metadata": {
        "colab": {
          "base_uri": "https://localhost:8080/"
        },
        "id": "UdQd_6PqdPdL",
        "outputId": "ec8bc67d-3f9d-400a-faef-ad2daf088227"
      },
      "execution_count": null,
      "outputs": [
        {
          "output_type": "stream",
          "name": "stdout",
          "text": [
            "1.0\n"
          ]
        }
      ]
    },
    {
      "cell_type": "code",
      "source": [
        "s=500\n",
        "s/=200\n",
        "print(s)"
      ],
      "metadata": {
        "colab": {
          "base_uri": "https://localhost:8080/"
        },
        "id": "LKeS507ddWH1",
        "outputId": "1194f1b0-4e69-4cd4-994a-6c8c55890c87"
      },
      "execution_count": null,
      "outputs": [
        {
          "output_type": "stream",
          "name": "stdout",
          "text": [
            "2.5\n"
          ]
        }
      ]
    },
    {
      "cell_type": "markdown",
      "source": [
        "#Remainder assignment(%)"
      ],
      "metadata": {
        "id": "OVdvZUs-dc61"
      }
    },
    {
      "cell_type": "code",
      "source": [
        "s=30\n",
        "s%=50\n",
        "print(s)"
      ],
      "metadata": {
        "colab": {
          "base_uri": "https://localhost:8080/"
        },
        "id": "f1_LTNN4drWe",
        "outputId": "1cebd36d-d79d-4b77-a5e1-04d7222e5b57"
      },
      "execution_count": null,
      "outputs": [
        {
          "output_type": "stream",
          "name": "stdout",
          "text": [
            "30\n"
          ]
        }
      ]
    },
    {
      "cell_type": "code",
      "source": [
        "s=40\n",
        "s%=300\n",
        "print(s)"
      ],
      "metadata": {
        "colab": {
          "base_uri": "https://localhost:8080/"
        },
        "id": "m3sfxt7idw5_",
        "outputId": "61ee7e81-57c1-47d7-a51a-19c5e6fcd26c"
      },
      "execution_count": null,
      "outputs": [
        {
          "output_type": "stream",
          "name": "stdout",
          "text": [
            "40\n"
          ]
        }
      ]
    },
    {
      "cell_type": "markdown",
      "source": [
        "#Exponent assignment(**=)"
      ],
      "metadata": {
        "id": "JFaOJDdoeGBh"
      }
    },
    {
      "cell_type": "code",
      "source": [
        "q=30\n",
        "q**=40\n",
        "print(q)"
      ],
      "metadata": {
        "colab": {
          "base_uri": "https://localhost:8080/"
        },
        "id": "b_OiOGj7eL6V",
        "outputId": "a97940eb-7e7f-4680-f8e9-8f6d84a8a63d"
      },
      "execution_count": null,
      "outputs": [
        {
          "output_type": "stream",
          "name": "stdout",
          "text": [
            "121576654590569288010000000000000000000000000000000000000000\n"
          ]
        }
      ]
    },
    {
      "cell_type": "code",
      "source": [
        "c=30\n",
        "c**=70\n",
        "print(c)"
      ],
      "metadata": {
        "colab": {
          "base_uri": "https://localhost:8080/"
        },
        "id": "Hi4c0AVceRjY",
        "outputId": "1185ce4a-0da5-44dc-d8e6-52ffeecdc1d7"
      },
      "execution_count": null,
      "outputs": [
        {
          "output_type": "stream",
          "name": "stdout",
          "text": [
            "25031555049932416013155719860858490000000000000000000000000000000000000000000000000000000000000000000000\n"
          ]
        }
      ]
    },
    {
      "cell_type": "markdown",
      "source": [
        "#3.Comparision Operator:\n",
        "      \n",
        "###       Comparison operators are used to compare two values."
      ],
      "metadata": {
        "id": "YGeYWp7qp6hZ"
      }
    },
    {
      "cell_type": "markdown",
      "source": [
        "#Equal(==)"
      ],
      "metadata": {
        "id": "Ou2Olm5mqXZ_"
      }
    },
    {
      "cell_type": "code",
      "source": [
        "x=43\n",
        "y=20\n",
        "print(\"x==y\",x==y)"
      ],
      "metadata": {
        "colab": {
          "base_uri": "https://localhost:8080/"
        },
        "id": "iVTC4oHSqrkH",
        "outputId": "c148bcfe-02fe-4ff0-c2f9-605706f6fa97"
      },
      "execution_count": 1,
      "outputs": [
        {
          "output_type": "stream",
          "name": "stdout",
          "text": [
            "x==y False\n"
          ]
        }
      ]
    },
    {
      "cell_type": "code",
      "source": [
        "x=55\n",
        "y=55\n",
        "print(\"x==y\",x==y)"
      ],
      "metadata": {
        "colab": {
          "base_uri": "https://localhost:8080/"
        },
        "id": "ugUTsOserCX_",
        "outputId": "a9808078-f3af-4471-b93f-1b6c50920ea5"
      },
      "execution_count": 2,
      "outputs": [
        {
          "output_type": "stream",
          "name": "stdout",
          "text": [
            "x==y True\n"
          ]
        }
      ]
    },
    {
      "cell_type": "markdown",
      "source": [
        "#Not Equal(!=)"
      ],
      "metadata": {
        "id": "NDAk9QbwrJcy"
      }
    },
    {
      "cell_type": "code",
      "source": [
        "x=40\n",
        "y=40\n",
        "print(\"x!=y\",x!=y)"
      ],
      "metadata": {
        "colab": {
          "base_uri": "https://localhost:8080/"
        },
        "id": "rZ7XJyIvrORm",
        "outputId": "7215f141-967e-42cd-9ac6-d63b5ffb543a"
      },
      "execution_count": 3,
      "outputs": [
        {
          "output_type": "stream",
          "name": "stdout",
          "text": [
            "x!=y False\n"
          ]
        }
      ]
    },
    {
      "cell_type": "code",
      "source": [
        "x=20\n",
        "y=70\n",
        "print(\"x!=y\",x!=y)"
      ],
      "metadata": {
        "colab": {
          "base_uri": "https://localhost:8080/"
        },
        "id": "8fNuPyP8rcit",
        "outputId": "c210de86-7872-44b6-a757-819d913aaa32"
      },
      "execution_count": 4,
      "outputs": [
        {
          "output_type": "stream",
          "name": "stdout",
          "text": [
            "x!=y True\n"
          ]
        }
      ]
    },
    {
      "cell_type": "markdown",
      "source": [
        "#Greater than(>)"
      ],
      "metadata": {
        "id": "iOAjc7yKrmQK"
      }
    },
    {
      "cell_type": "code",
      "source": [
        "x=40\n",
        "y=20\n",
        "print(\"x>y\",x>y)"
      ],
      "metadata": {
        "colab": {
          "base_uri": "https://localhost:8080/"
        },
        "id": "RRpkD3Earucd",
        "outputId": "44686c16-13f2-4b0a-9308-acb14e5cbc66"
      },
      "execution_count": 6,
      "outputs": [
        {
          "output_type": "stream",
          "name": "stdout",
          "text": [
            "x>y True\n"
          ]
        }
      ]
    },
    {
      "cell_type": "markdown",
      "source": [
        "#Less than(<)"
      ],
      "metadata": {
        "id": "HGaCNfWQr9Na"
      }
    },
    {
      "cell_type": "code",
      "source": [
        "x=40\n",
        "y=70\n",
        "print(\"x<y\",x<y)"
      ],
      "metadata": {
        "colab": {
          "base_uri": "https://localhost:8080/"
        },
        "id": "pAwFONvOr_7Q",
        "outputId": "54d6eda4-8334-4679-c345-cb17bf99d5f6"
      },
      "execution_count": 7,
      "outputs": [
        {
          "output_type": "stream",
          "name": "stdout",
          "text": [
            "x<y True\n"
          ]
        }
      ]
    },
    {
      "cell_type": "code",
      "source": [],
      "metadata": {
        "id": "UktFcbp1sIae"
      },
      "execution_count": null,
      "outputs": []
    },
    {
      "cell_type": "markdown",
      "source": [
        "#Greater than or Equal to(>=)"
      ],
      "metadata": {
        "id": "3PwNQAXEsJ4t"
      }
    },
    {
      "cell_type": "code",
      "source": [
        "x=20\n",
        "y=20\n",
        "print(\"x>=y\",x>=y)"
      ],
      "metadata": {
        "colab": {
          "base_uri": "https://localhost:8080/"
        },
        "id": "V10SCXVlsTft",
        "outputId": "23ddd760-3ee2-4553-f3ba-1c18b900d7ca"
      },
      "execution_count": 8,
      "outputs": [
        {
          "output_type": "stream",
          "name": "stdout",
          "text": [
            "x>=y True\n"
          ]
        }
      ]
    },
    {
      "cell_type": "markdown",
      "source": [
        "#Less than or Equal to(<=)"
      ],
      "metadata": {
        "id": "ON_UPoPxscX5"
      }
    },
    {
      "cell_type": "code",
      "source": [
        "x=40\n",
        "y=50\n",
        "print(\"x<=y\",x<=y)"
      ],
      "metadata": {
        "colab": {
          "base_uri": "https://localhost:8080/"
        },
        "id": "GFBwWQQesmxE",
        "outputId": "3a8e8481-e5c2-472c-e09b-74e3e27c81e9"
      },
      "execution_count": 10,
      "outputs": [
        {
          "output_type": "stream",
          "name": "stdout",
          "text": [
            "x<=y True\n"
          ]
        }
      ]
    },
    {
      "cell_type": "markdown",
      "source": [
        "#4.Logical Operator:\n",
        "\n",
        "###               Comparison operators are used to compare two values."
      ],
      "metadata": {
        "id": "bob9SLFqs0ZX"
      }
    },
    {
      "cell_type": "markdown",
      "source": [
        "#And(&)"
      ],
      "metadata": {
        "id": "z4iq0Xc_tNtI"
      }
    },
    {
      "cell_type": "code",
      "source": [
        "x=5\n",
        "print(x>3 & x<10)"
      ],
      "metadata": {
        "colab": {
          "base_uri": "https://localhost:8080/"
        },
        "id": "6HyOHukktpWR",
        "outputId": "eb712c5e-4e42-45bd-a3f6-9b8e746954fb"
      },
      "execution_count": 12,
      "outputs": [
        {
          "output_type": "stream",
          "name": "stdout",
          "text": [
            "True\n"
          ]
        }
      ]
    },
    {
      "cell_type": "markdown",
      "source": [
        "#Or(or)"
      ],
      "metadata": {
        "id": "bX281Q0st6e0"
      }
    },
    {
      "cell_type": "code",
      "source": [
        "x=5\n",
        "print(x>3 or x<4)"
      ],
      "metadata": {
        "colab": {
          "base_uri": "https://localhost:8080/"
        },
        "id": "faErO7l8uRNJ",
        "outputId": "d81183e3-b68a-4400-80c1-c198910bcf3d"
      },
      "execution_count": 14,
      "outputs": [
        {
          "output_type": "stream",
          "name": "stdout",
          "text": [
            "True\n"
          ]
        }
      ]
    },
    {
      "cell_type": "markdown",
      "source": [
        "#Not (not)"
      ],
      "metadata": {
        "id": "3MKfDLsjufPm"
      }
    },
    {
      "cell_type": "code",
      "source": [
        "x=5\n",
        "print(not(x>3 and x<10))"
      ],
      "metadata": {
        "colab": {
          "base_uri": "https://localhost:8080/"
        },
        "id": "9ZbenCXYuipx",
        "outputId": "a69eaac8-2d85-4a88-8334-4d9b459e31b4"
      },
      "execution_count": 15,
      "outputs": [
        {
          "output_type": "stream",
          "name": "stdout",
          "text": [
            "False\n"
          ]
        }
      ]
    },
    {
      "cell_type": "markdown",
      "source": [
        "#5.Identity Operator:\n",
        "\n",
        "###                Identity operators are used to compare the objects, not if they are equal, but if they are actually the same object, with the same memory location."
      ],
      "metadata": {
        "id": "uCYWgTBbux8s"
      }
    },
    {
      "cell_type": "markdown",
      "source": [
        "#Is (is)"
      ],
      "metadata": {
        "id": "8-DbPdxFvI6q"
      }
    },
    {
      "cell_type": "code",
      "source": [
        "x = [\"apple\", \"banana\"]\n",
        "y = [\"apple\", \"banana\"]\n",
        "z = x\n",
        "\n",
        "print(x is z)\n",
        "print(x is y)\n",
        "print(x == y)"
      ],
      "metadata": {
        "colab": {
          "base_uri": "https://localhost:8080/"
        },
        "id": "Btf0Fh3fvMt7",
        "outputId": "93fa8035-7071-48c8-c9d9-87be70061955"
      },
      "execution_count": 16,
      "outputs": [
        {
          "output_type": "stream",
          "name": "stdout",
          "text": [
            "True\n",
            "False\n",
            "True\n"
          ]
        }
      ]
    },
    {
      "cell_type": "markdown",
      "source": [
        "#Is not( is not)"
      ],
      "metadata": {
        "id": "uht8rmSPvi7-"
      }
    },
    {
      "cell_type": "code",
      "source": [
        "x = [\"apple\", \"banana\"]\n",
        "y = [\"apple\", \"banana\"]\n",
        "z = x\n",
        "\n",
        "print(x is not z)\n",
        "print(x is not y)\n",
        "print(x != y)"
      ],
      "metadata": {
        "colab": {
          "base_uri": "https://localhost:8080/"
        },
        "id": "CUxJ99ovvqpt",
        "outputId": "8944d87b-1f3e-42bf-a791-53c3ba5731b4"
      },
      "execution_count": 17,
      "outputs": [
        {
          "output_type": "stream",
          "name": "stdout",
          "text": [
            "False\n",
            "True\n",
            "False\n"
          ]
        }
      ]
    },
    {
      "cell_type": "markdown",
      "source": [
        "#6.Membership Operator:\n",
        "\n",
        "            Membership operators are used to test if a sequence is presented in an object."
      ],
      "metadata": {
        "id": "-rY2pa30v1iT"
      }
    },
    {
      "cell_type": "markdown",
      "source": [
        "#In (in)"
      ],
      "metadata": {
        "id": "zYshFqFEwI0t"
      }
    },
    {
      "cell_type": "code",
      "source": [
        "x = [\"apple\", \"banana\"]\n",
        "\n",
        "print(\"banana\" in x)"
      ],
      "metadata": {
        "colab": {
          "base_uri": "https://localhost:8080/"
        },
        "id": "zR6mIU7IwQOA",
        "outputId": "27b83db6-b5e8-4c02-f0d6-9d3a179f1737"
      },
      "execution_count": 18,
      "outputs": [
        {
          "output_type": "stream",
          "name": "stdout",
          "text": [
            "True\n"
          ]
        }
      ]
    },
    {
      "cell_type": "markdown",
      "source": [
        "# not in"
      ],
      "metadata": {
        "id": "MfUy0G16wUVf"
      }
    },
    {
      "cell_type": "code",
      "source": [
        "x = [\"apple\", \"banana\"]\n",
        "\n",
        "print(\"pineapple\" not in x)\n"
      ],
      "metadata": {
        "colab": {
          "base_uri": "https://localhost:8080/"
        },
        "id": "s0E6GQf-wYwF",
        "outputId": "5d0a4d55-8ab8-4e40-b29b-7b10d939dc98"
      },
      "execution_count": 19,
      "outputs": [
        {
          "output_type": "stream",
          "name": "stdout",
          "text": [
            "True\n"
          ]
        }
      ]
    },
    {
      "cell_type": "markdown",
      "source": [
        "#7.Bitwise operators:\n",
        "\n",
        "\n",
        "###             Bitwise operators are used to compare (binary) numbers."
      ],
      "metadata": {
        "id": "EkMZa_fBwlm8"
      }
    },
    {
      "cell_type": "markdown",
      "source": [
        "#AND (&)"
      ],
      "metadata": {
        "id": "RF33fZM1w2Gi"
      }
    },
    {
      "cell_type": "code",
      "source": [
        "777&555"
      ],
      "metadata": {
        "colab": {
          "base_uri": "https://localhost:8080/"
        },
        "id": "vw0wYrZBw66q",
        "outputId": "ddc227f3-9dae-46df-d8ec-f55ce981eb99"
      },
      "execution_count": 20,
      "outputs": [
        {
          "output_type": "execute_result",
          "data": {
            "text/plain": [
              "521"
            ]
          },
          "metadata": {},
          "execution_count": 20
        }
      ]
    },
    {
      "cell_type": "markdown",
      "source": [
        "#OR(|)"
      ],
      "metadata": {
        "id": "FVE0GDCQxIl9"
      }
    },
    {
      "cell_type": "code",
      "source": [
        "256|128"
      ],
      "metadata": {
        "colab": {
          "base_uri": "https://localhost:8080/"
        },
        "id": "4j3ku5mTxMiW",
        "outputId": "ae962783-28bf-4b42-8464-e9c9c621dcf3"
      },
      "execution_count": 21,
      "outputs": [
        {
          "output_type": "execute_result",
          "data": {
            "text/plain": [
              "384"
            ]
          },
          "metadata": {},
          "execution_count": 21
        }
      ]
    },
    {
      "cell_type": "markdown",
      "source": [
        "#XOR(^)"
      ],
      "metadata": {
        "id": "oLo9sSbOxRi2"
      }
    },
    {
      "cell_type": "code",
      "source": [
        "457^781"
      ],
      "metadata": {
        "colab": {
          "base_uri": "https://localhost:8080/"
        },
        "id": "m808fRc2xU3_",
        "outputId": "bdacd44e-26b0-4400-ee6d-90d7d109c444"
      },
      "execution_count": 22,
      "outputs": [
        {
          "output_type": "execute_result",
          "data": {
            "text/plain": [
              "708"
            ]
          },
          "metadata": {},
          "execution_count": 22
        }
      ]
    },
    {
      "cell_type": "markdown",
      "source": [
        "#NOT(~)"
      ],
      "metadata": {
        "id": "K2hoFIrTxZo1"
      }
    },
    {
      "cell_type": "code",
      "source": [
        "~(971)"
      ],
      "metadata": {
        "colab": {
          "base_uri": "https://localhost:8080/"
        },
        "id": "Y0b67TZyxdX8",
        "outputId": "7c10b362-39a7-4ba9-a3d7-82adeab86378"
      },
      "execution_count": 23,
      "outputs": [
        {
          "output_type": "execute_result",
          "data": {
            "text/plain": [
              "-972"
            ]
          },
          "metadata": {},
          "execution_count": 23
        }
      ]
    },
    {
      "cell_type": "markdown",
      "source": [
        "#Zero fill left shift(<<)"
      ],
      "metadata": {
        "id": "5Q6st1dDxigK"
      }
    },
    {
      "cell_type": "code",
      "source": [
        "391<<3"
      ],
      "metadata": {
        "colab": {
          "base_uri": "https://localhost:8080/"
        },
        "id": "l5D2Py1ExqEr",
        "outputId": "45326fbe-bb81-476b-a531-4dfdf481f5e6"
      },
      "execution_count": 24,
      "outputs": [
        {
          "output_type": "execute_result",
          "data": {
            "text/plain": [
              "3128"
            ]
          },
          "metadata": {},
          "execution_count": 24
        }
      ]
    },
    {
      "cell_type": "markdown",
      "source": [
        "#Signed right shift(>>)"
      ],
      "metadata": {
        "id": "pASrGRyaxtSj"
      }
    },
    {
      "cell_type": "code",
      "source": [
        "999>>2"
      ],
      "metadata": {
        "colab": {
          "base_uri": "https://localhost:8080/"
        },
        "id": "cANdo3_kxzKR",
        "outputId": "44ea5cf2-747f-4b8c-f712-4c299692f5fa"
      },
      "execution_count": 25,
      "outputs": [
        {
          "output_type": "execute_result",
          "data": {
            "text/plain": [
              "249"
            ]
          },
          "metadata": {},
          "execution_count": 25
        }
      ]
    }
  ]
}