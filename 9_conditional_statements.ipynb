{
  "nbformat": 4,
  "nbformat_minor": 0,
  "metadata": {
    "colab": {
      "provenance": []
    },
    "kernelspec": {
      "name": "python3",
      "display_name": "Python 3"
    },
    "language_info": {
      "name": "python"
    }
  },
  "cells": [
    {
      "cell_type": "markdown",
      "source": [
        "#conditional statements:\n",
        "\n",
        "##           Conditional Statements are statements in Python that provide a choice for the control flow based on a condition. It means that the control flow of the Python program will be decided based on the outcome of the condition. Now let us see how Conditional Statements are implemented in Python."
      ],
      "metadata": {
        "id": "DxdWHok2tW-a"
      }
    },
    {
      "cell_type": "markdown",
      "source": [
        "#if:\n",
        "\n",
        "##       If the simple code of block is to be performed if the condition holds then the if statement is used. Here the condition mentioned holds then the code of the block runs otherwise not."
      ],
      "metadata": {
        "id": "adZx6w5Ivfgc"
      }
    },
    {
      "cell_type": "code",
      "source": [
        "num=56\n",
        "if num>0:\n",
        "    print(\"given number is greater than zero\")\n",
        "    print(\"hello world\")"
      ],
      "metadata": {
        "colab": {
          "base_uri": "https://localhost:8080/"
        },
        "id": "xdDBS0V5vrg6",
        "outputId": "116e88dc-c50f-42bd-8297-286c3fcb7722"
      },
      "execution_count": null,
      "outputs": [
        {
          "output_type": "stream",
          "name": "stdout",
          "text": [
            "given number is greater than zero\n",
            "hello world\n"
          ]
        }
      ]
    },
    {
      "cell_type": "code",
      "source": [
        "num=-67\n",
        "if num>0:\n",
        "    print(\"given number is greater than zero\")     # it ignores th out put.\n",
        "    print(\"hello world\")"
      ],
      "metadata": {
        "id": "Q-f9FrFqwOzc"
      },
      "execution_count": null,
      "outputs": []
    },
    {
      "cell_type": "markdown",
      "source": [
        "#ifelse:\n",
        "\n",
        "##           In a conditional if Statement the additional block of code is merged as an else statement which is performed when if condition is false.  "
      ],
      "metadata": {
        "id": "BFf09gSpwcna"
      }
    },
    {
      "cell_type": "code",
      "source": [
        "num=56\n",
        "if num>0:\n",
        "    print(\"positive\")\n",
        "else:\n",
        "      print(\"negative\")"
      ],
      "metadata": {
        "colab": {
          "base_uri": "https://localhost:8080/"
        },
        "id": "UMrkBOpQwwfq",
        "outputId": "e8f0d4ae-c253-4f3d-d1e1-4107c7c8fc62"
      },
      "execution_count": null,
      "outputs": [
        {
          "output_type": "stream",
          "name": "stdout",
          "text": [
            "positive\n"
          ]
        }
      ]
    },
    {
      "cell_type": "code",
      "source": [
        "num=-56\n",
        "if num>0:\n",
        "    print(\"positive\")\n",
        "else:\n",
        "      print(\"negative\")"
      ],
      "metadata": {
        "colab": {
          "base_uri": "https://localhost:8080/"
        },
        "id": "Z3wf-R_SxMOG",
        "outputId": "c9118a5c-1771-4639-e28a-382328d07bc3"
      },
      "execution_count": null,
      "outputs": [
        {
          "output_type": "stream",
          "name": "stdout",
          "text": [
            "negative\n"
          ]
        }
      ]
    },
    {
      "cell_type": "markdown",
      "source": [
        "#elif:"
      ],
      "metadata": {
        "id": "zCNBz6UWxdYg"
      }
    },
    {
      "cell_type": "code",
      "source": [
        "num=-70\n",
        "if num>0:\n",
        "    print(\"positive\")\n",
        "elif num==0:\n",
        "    print(\"zero\")\n",
        "else:\n",
        "    print(\"negative\")"
      ],
      "metadata": {
        "colab": {
          "base_uri": "https://localhost:8080/"
        },
        "id": "Y3cun0W7yEsX",
        "outputId": "f98bf6fa-2bd6-4ac4-b7e8-620e7730d355"
      },
      "execution_count": null,
      "outputs": [
        {
          "output_type": "stream",
          "name": "stdout",
          "text": [
            "negative\n"
          ]
        }
      ]
    },
    {
      "cell_type": "code",
      "source": [
        "num=35\n",
        "if num>0:\n",
        "    print(\"positive\")\n",
        "elif num==0:\n",
        "    print(\"zero\")\n",
        "else:\n",
        "    print(\"negative\")"
      ],
      "metadata": {
        "colab": {
          "base_uri": "https://localhost:8080/"
        },
        "id": "t-uQqhvTySKz",
        "outputId": "2457df7b-458a-454c-c0b2-f8fe804ba8b8"
      },
      "execution_count": null,
      "outputs": [
        {
          "output_type": "stream",
          "name": "stdout",
          "text": [
            "positive\n"
          ]
        }
      ]
    },
    {
      "cell_type": "markdown",
      "source": [
        "#ifelse:\n"
      ],
      "metadata": {
        "id": "KkPaFaGHyXIy"
      }
    },
    {
      "cell_type": "code",
      "source": [
        "# voting system\n",
        "age=18\n",
        "if age>=18:\n",
        "    print(\"eligible for voting\")\n",
        "else:\n",
        "    print(\"not eligible for voting\")"
      ],
      "metadata": {
        "colab": {
          "base_uri": "https://localhost:8080/"
        },
        "id": "oKMrC5XOycY-",
        "outputId": "d2fca0f3-9f59-4d8c-d72e-9ad5389d9c83"
      },
      "execution_count": null,
      "outputs": [
        {
          "output_type": "stream",
          "name": "stdout",
          "text": [
            "eligible for voting\n"
          ]
        }
      ]
    },
    {
      "cell_type": "code",
      "source": [
        "age=12\n",
        "if age>=18:\n",
        "    print(\"eligible for voting\")\n",
        "else:\n",
        "    print(\"not eligible for voting\")"
      ],
      "metadata": {
        "colab": {
          "base_uri": "https://localhost:8080/"
        },
        "id": "1ubByp0BynDp",
        "outputId": "5ba04bc7-7c82-4470-b54a-8fd9c39e83c6"
      },
      "execution_count": null,
      "outputs": [
        {
          "output_type": "stream",
          "name": "stdout",
          "text": [
            "not eligible for voting\n"
          ]
        }
      ]
    },
    {
      "cell_type": "markdown",
      "source": [
        "#if..elif..else:"
      ],
      "metadata": {
        "id": "y-HZJ3QlyvEJ"
      }
    },
    {
      "cell_type": "code",
      "source": [
        "age=90\n",
        "if age<=18:\n",
        "    print(\"school\")\n",
        "elif age>=18 and age<=50:\n",
        "      print(\"work\")\n",
        "else:\n",
        "        print(\"retire\")"
      ],
      "metadata": {
        "colab": {
          "base_uri": "https://localhost:8080/"
        },
        "id": "aSMsMqFfy0AP",
        "outputId": "8a4c66e5-e73a-4b77-84e6-3dc3f3778b6a"
      },
      "execution_count": null,
      "outputs": [
        {
          "output_type": "stream",
          "name": "stdout",
          "text": [
            "retire\n"
          ]
        }
      ]
    },
    {
      "cell_type": "code",
      "source": [
        "age=9\n",
        "if age<=18:\n",
        "    print(\"school\")\n",
        "elif age>=18 and age<=50:\n",
        "      print(\"work\")\n",
        "else:\n",
        "        print(\"retire\")"
      ],
      "metadata": {
        "colab": {
          "base_uri": "https://localhost:8080/"
        },
        "id": "G3c4rcjczmSj",
        "outputId": "1dc12185-08cf-44bc-f0a8-65f9807aaf04"
      },
      "execution_count": null,
      "outputs": [
        {
          "output_type": "stream",
          "name": "stdout",
          "text": [
            "school\n"
          ]
        }
      ]
    },
    {
      "cell_type": "code",
      "source": [
        "age=49\n",
        "if age<=18:\n",
        "    print(\"school\")\n",
        "elif age>=18 and age<=50:\n",
        "      print(\"work\")\n",
        "else:\n",
        "        print(\"retire\")"
      ],
      "metadata": {
        "colab": {
          "base_uri": "https://localhost:8080/"
        },
        "id": "I00WhhxJzs2F",
        "outputId": "97c13206-c682-477a-db74-298328220f9a"
      },
      "execution_count": null,
      "outputs": [
        {
          "output_type": "stream",
          "name": "stdout",
          "text": [
            "work\n"
          ]
        }
      ]
    }
  ]
}